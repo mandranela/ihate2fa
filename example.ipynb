{
 "cells": [
  {
   "cell_type": "markdown",
   "metadata": {},
   "source": [
    "# imports"
   ]
  },
  {
   "cell_type": "code",
   "execution_count": 1,
   "metadata": {},
   "outputs": [],
   "source": [
    "# imports\n",
    "\n",
    "from config import *\n",
    "from sys import getsizeof\n",
    "\n",
    "import os\n",
    "import sys\n",
    "import re\n",
    "import json\n",
    "import pickle\n",
    "import datetime\n",
    "import importlib\n",
    "import pandas as pd\n",
    "import dateutil.parser as dp"
   ]
  },
  {
   "cell_type": "markdown",
   "metadata": {},
   "source": [
    "# datasets"
   ]
  },
  {
   "cell_type": "code",
   "execution_count": 2,
   "metadata": {},
   "outputs": [
    {
     "name": "stdout",
     "output_type": "stream",
     "text": [
      "ASCCDCV c:\\Users\\MANDR\\Desktop\\1210\\gdepc\\static\\datasets\\all_sites_combined_concentration_data_clean_version.xlsx\n"
     ]
    },
    {
     "name": "stdout",
     "output_type": "stream",
     "text": [
      "ARGAZAL c:\\Users\\MANDR\\Desktop\\1210\\gdepc\\static\\datasets\\argentine_all_zones_all_winds.xlsx\n",
      "ARMAZAL c:\\Users\\MANDR\\Desktop\\1210\\gdepc\\static\\datasets\\armourdale_all_zones_all_winds.xlsx\n",
      "BWQAS c:\\Users\\MANDR\\Desktop\\1210\\gdepc\\static\\datasets\\beach_water_quality_automated_sensors_1.csv\n",
      "BWSAS c:\\Users\\MANDR\\Desktop\\1210\\gdepc\\static\\datasets\\beach_weather_stations_automated_sensors_1.csv\n",
      "IOTNL c:\\Users\\MANDR\\Desktop\\1210\\gdepc\\static\\datasets\\iot_network_logs.csv\n",
      "IOTTEMP c:\\Users\\MANDR\\Desktop\\1210\\gdepc\\static\\datasets\\iot_temp.csv\n",
      "IOT1 c:\\Users\\MANDR\\Desktop\\1210\\gdepc\\static\\datasets\\iotpond1.csv\n",
      "IOT2 c:\\Users\\MANDR\\Desktop\\1210\\gdepc\\static\\datasets\\iotpond2.csv\n",
      "IOT3 c:\\Users\\MANDR\\Desktop\\1210\\gdepc\\static\\datasets\\iotpond3.csv\n",
      "IOT4 c:\\Users\\MANDR\\Desktop\\1210\\gdepc\\static\\datasets\\iotpond4.csv\n",
      "IOT6 c:\\Users\\MANDR\\Desktop\\1210\\gdepc\\static\\datasets\\iotpond6.csv\n",
      "IOT7 c:\\Users\\MANDR\\Desktop\\1210\\gdepc\\static\\datasets\\iotpond7.csv\n",
      "IOT8 c:\\Users\\MANDR\\Desktop\\1210\\gdepc\\static\\datasets\\iotpond8.csv\n",
      "IOT9 c:\\Users\\MANDR\\Desktop\\1210\\gdepc\\static\\datasets\\iotpond9.csv\n",
      "IOT10 c:\\Users\\MANDR\\Desktop\\1210\\gdepc\\static\\datasets\\iotpond10.csv\n",
      "IOT11 c:\\Users\\MANDR\\Desktop\\1210\\gdepc\\static\\datasets\\iotpond11.csv\n",
      "IOT12 c:\\Users\\MANDR\\Desktop\\1210\\gdepc\\static\\datasets\\iotpond12.csv\n",
      "TAZAW c:\\Users\\MANDR\\Desktop\\1210\\gdepc\\static\\datasets\\turner_all_zones_all_winds.xlsx\n"
     ]
    }
   ],
   "source": [
    "dfs = {}\n",
    "for name, path in DATASETS_ABS_PATHS.items():\n",
    "    print(f\"{name} {path}\")\n",
    "    if path.endswith(\".xlsx\"):\n",
    "        dfs[name] = pd.read_excel(path)\n",
    "    elif path.endswith(\".csv\"):\n",
    "        dfs[name] = pd.read_csv(path, low_memory=False)"
   ]
  },
  {
   "cell_type": "code",
   "execution_count": 3,
   "metadata": {},
   "outputs": [
    {
     "name": "stderr",
     "output_type": "stream",
     "text": [
      "c:\\Users\\MANDR\\AppData\\Local\\Programs\\Python\\Python312\\Lib\\site-packages\\pandas\\core\\dtypes\\cast.py:1057: RuntimeWarning: invalid value encountered in cast\n",
      "  if (arr.astype(int) == arr).all():\n",
      "c:\\Users\\MANDR\\AppData\\Local\\Programs\\Python\\Python312\\Lib\\site-packages\\pandas\\core\\dtypes\\cast.py:1081: RuntimeWarning: invalid value encountered in cast\n",
      "  if (arr.astype(int) == arr).all():\n",
      "c:\\Users\\MANDR\\AppData\\Local\\Programs\\Python\\Python312\\Lib\\site-packages\\pandas\\core\\dtypes\\cast.py:1057: RuntimeWarning: invalid value encountered in cast\n",
      "  if (arr.astype(int) == arr).all():\n",
      "c:\\Users\\MANDR\\AppData\\Local\\Programs\\Python\\Python312\\Lib\\site-packages\\pandas\\core\\dtypes\\cast.py:1081: RuntimeWarning: invalid value encountered in cast\n",
      "  if (arr.astype(int) == arr).all():\n",
      "c:\\Users\\MANDR\\AppData\\Local\\Programs\\Python\\Python312\\Lib\\site-packages\\pandas\\core\\dtypes\\cast.py:1057: RuntimeWarning: invalid value encountered in cast\n",
      "  if (arr.astype(int) == arr).all():\n",
      "c:\\Users\\MANDR\\AppData\\Local\\Programs\\Python\\Python312\\Lib\\site-packages\\pandas\\core\\dtypes\\cast.py:1081: RuntimeWarning: invalid value encountered in cast\n",
      "  if (arr.astype(int) == arr).all():\n",
      "c:\\Users\\MANDR\\AppData\\Local\\Programs\\Python\\Python312\\Lib\\site-packages\\pandas\\core\\dtypes\\cast.py:1057: RuntimeWarning: invalid value encountered in cast\n",
      "  if (arr.astype(int) == arr).all():\n",
      "c:\\Users\\MANDR\\AppData\\Local\\Programs\\Python\\Python312\\Lib\\site-packages\\pandas\\core\\dtypes\\cast.py:1081: RuntimeWarning: invalid value encountered in cast\n",
      "  if (arr.astype(int) == arr).all():\n",
      "c:\\Users\\MANDR\\AppData\\Local\\Programs\\Python\\Python312\\Lib\\site-packages\\pandas\\core\\dtypes\\cast.py:1057: RuntimeWarning: invalid value encountered in cast\n",
      "  if (arr.astype(int) == arr).all():\n",
      "c:\\Users\\MANDR\\AppData\\Local\\Programs\\Python\\Python312\\Lib\\site-packages\\pandas\\core\\dtypes\\cast.py:1081: RuntimeWarning: invalid value encountered in cast\n",
      "  if (arr.astype(int) == arr).all():\n",
      "c:\\Users\\MANDR\\AppData\\Local\\Programs\\Python\\Python312\\Lib\\site-packages\\pandas\\core\\dtypes\\cast.py:1057: RuntimeWarning: invalid value encountered in cast\n",
      "  if (arr.astype(int) == arr).all():\n",
      "c:\\Users\\MANDR\\AppData\\Local\\Programs\\Python\\Python312\\Lib\\site-packages\\pandas\\core\\dtypes\\cast.py:1081: RuntimeWarning: invalid value encountered in cast\n",
      "  if (arr.astype(int) == arr).all():\n",
      "c:\\Users\\MANDR\\AppData\\Local\\Programs\\Python\\Python312\\Lib\\site-packages\\pandas\\core\\dtypes\\cast.py:1057: RuntimeWarning: invalid value encountered in cast\n",
      "  if (arr.astype(int) == arr).all():\n",
      "c:\\Users\\MANDR\\AppData\\Local\\Programs\\Python\\Python312\\Lib\\site-packages\\pandas\\core\\dtypes\\cast.py:1081: RuntimeWarning: invalid value encountered in cast\n",
      "  if (arr.astype(int) == arr).all():\n",
      "c:\\Users\\MANDR\\AppData\\Local\\Programs\\Python\\Python312\\Lib\\site-packages\\pandas\\core\\dtypes\\cast.py:1057: RuntimeWarning: invalid value encountered in cast\n",
      "  if (arr.astype(int) == arr).all():\n",
      "c:\\Users\\MANDR\\AppData\\Local\\Programs\\Python\\Python312\\Lib\\site-packages\\pandas\\core\\dtypes\\cast.py:1081: RuntimeWarning: invalid value encountered in cast\n",
      "  if (arr.astype(int) == arr).all():\n",
      "c:\\Users\\MANDR\\AppData\\Local\\Programs\\Python\\Python312\\Lib\\site-packages\\pandas\\core\\dtypes\\cast.py:1057: RuntimeWarning: invalid value encountered in cast\n",
      "  if (arr.astype(int) == arr).all():\n",
      "c:\\Users\\MANDR\\AppData\\Local\\Programs\\Python\\Python312\\Lib\\site-packages\\pandas\\core\\dtypes\\cast.py:1081: RuntimeWarning: invalid value encountered in cast\n",
      "  if (arr.astype(int) == arr).all():\n",
      "c:\\Users\\MANDR\\AppData\\Local\\Programs\\Python\\Python312\\Lib\\site-packages\\pandas\\core\\dtypes\\cast.py:1057: RuntimeWarning: invalid value encountered in cast\n",
      "  if (arr.astype(int) == arr).all():\n",
      "c:\\Users\\MANDR\\AppData\\Local\\Programs\\Python\\Python312\\Lib\\site-packages\\pandas\\core\\dtypes\\cast.py:1081: RuntimeWarning: invalid value encountered in cast\n",
      "  if (arr.astype(int) == arr).all():\n"
     ]
    }
   ],
   "source": [
    "for df_name in dfs:\n",
    "    dfs[df_name].columns = dfs[df_name].columns.str.strip().str.rstrip('-').str.lower()\n",
    "    dfs[df_name].columns = [re.sub(r'[^\\w\\s]', '', col.replace(' ', '_').replace('-', '_')) for col in dfs[df_name].columns]\n",
    "\n",
    "    # dfs[df_name].rename(columns=lambda x: x.replace(' ', '_'), inplace=True)\n",
    "    dfs[df_name] = dfs[df_name].convert_dtypes()"
   ]
  },
  {
   "cell_type": "code",
   "execution_count": 4,
   "metadata": {},
   "outputs": [],
   "source": [
    "def try_to_datetime(df: pd.DataFrame):\n",
    "    for col in df.columns:\n",
    "        if df[col].dtype == \"string[python]\" and any(char in df[col].iloc[0] for char in ['-', '/', ':']):\n",
    "            try:\n",
    "                df[col] = pd.to_datetime(df[col], format=\"mixed\")\n",
    "            except:\n",
    "                pass\n"
   ]
  },
  {
   "cell_type": "code",
   "execution_count": 5,
   "metadata": {},
   "outputs": [],
   "source": [
    "dfs[\"BWQAS\"][\"measurement_timestamp\"] = pd.to_datetime(dfs[\"BWQAS\"][\"measurement_timestamp\"], format=\"%m/%d/%Y %I:%M:%S %p\")\n",
    "dfs[\"BWSAS\"][\"measurement_timestamp\"] = pd.to_datetime(dfs[\"BWSAS\"][\"measurement_timestamp\"], format=\"%m/%d/%Y %I:%M:%S %p\")\n",
    "dfs[\"IOTTEMP\"][\"noted_date\"] = pd.to_datetime(dfs[\"IOTTEMP\"][\"noted_date\"], format=\"%d-%m-%Y %H:%M\")\n",
    "dfs[\"IOT1\"][\"created_at\"] = pd.to_datetime(dfs[\"IOT1\"][\"created_at\"], format=\"%Y-%m-%d %H:%M:%S %Z\").dt.tz_convert(None)\n",
    "dfs[\"IOT3\"][\"created_at\"] = pd.to_datetime(dfs[\"IOT3\"][\"created_at\"], format=\"%Y-%m-%d %H:%M:%S %Z\").dt.tz_convert(None)\n",
    "dfs[\"IOT8\"][\"created_at\"] = pd.to_datetime(dfs[\"IOT8\"][\"created_at\"], format=\"%Y-%m-%dT%H:%M:%S%z\").dt.tz_convert(None)\n",
    "dfs[\"IOT9\"][\"created_at\"] = pd.to_datetime(dfs[\"IOT9\"][\"created_at\"], format=\"%Y-%m-%d %H:%M:%S %Z\").dt.tz_convert(None)\n",
    "# dfs[\"IOT2\"][\"created_at\"] = pd.to_datetime(dfs[\"IOT2\"][\"created_at\"].map({'%Y-%m-%d': '%Y-%m-%d', '%d/%m/%Y': '%d/%m/%Y', '%b %d, %Y': '%b %d, %Y'}), format=\"%Y-%m-%d %H:%M:%S %Z\")\n",
    "# dfs[\"IOT4\"][\"created_at\"] = pd.to_datetime(dfs[\"IOT4\"][\"created_at\"], format=\"%Y-%m-%d %H:%M:%S %Z\")\n",
    "# dfs[\"IOT6\"][\"created_at\"] = pd.to_datetime(dfs[\"IOT6\"][\"created_at\"], format=\"%Y-%m-%d %H:%M:%S %Z\")\n",
    "# dfs[\"IOT7\"][\"created_at\"] = pd.to_datetime(dfs[\"IOT7\"][\"created_at\"], format=\"%Y-%m-%dT%H:%M:%S%z\")\n",
    "# dfs[\"IOT10\"][\"created_at\"] = pd.to_datetime(dfs[\"IOT10\"][\"created_at\"], format=\"%Y-%m-%d %H:%M:%S %Z\")\n",
    "# dfs[\"IOT11\"][\"created_at\"] = pd.to_datetime(dfs[\"IOT11\"][\"created_at\"], format=\"%Y-%m-%d %H:%M:%S %Z\")\n",
    "# dfs[\"IOT12\"][\"created_at\"] = pd.to_datetime(dfs[\"IOT12\"][\"created_at\"], format=\"%Y-%m-%d %H:%M:%S %Z\")"
   ]
  },
  {
   "cell_type": "code",
   "execution_count": 6,
   "metadata": {},
   "outputs": [],
   "source": [
    "import pickle\n",
    "with open(\".\\\\static\\\\pickles\\\\dfs.pickle\", \"wb\") as f:\n",
    "    pickle.dump(dfs, f)\n",
    "with open(\".\\\\static\\\\pickles\\\\dfs.pickle\", \"rb\") as f:\n",
    "    dfs = pickle.load(f)\n"
   ]
  },
  {
   "cell_type": "code",
   "execution_count": 7,
   "metadata": {},
   "outputs": [],
   "source": [
    "# Loading example dataset\n",
    "\n",
    "# df = pd.read_csv(DATASETS_ABS_PATHS[\"BWSAS\"])\n",
    "# df.rename(columns=lambda x: x.replace(' ', '_'), inplace=True) # Replace spaces with underscores in column names\n",
    "# df.Measurement_Timestamp = pd.to_datetime(df.Measurement_Timestamp, format=\"%m/%d/%Y %I:%M:%S %p\")\n",
    "# df = df.convert_dtypes()\n",
    "# df_dict = df.to_dict(orient=\"records\")\n",
    "# df.dtypes"
   ]
  },
  {
   "cell_type": "markdown",
   "metadata": {},
   "source": [
    "# proto files"
   ]
  },
  {
   "cell_type": "markdown",
   "metadata": {},
   "source": [
    "## creating proto template"
   ]
  },
  {
   "cell_type": "code",
   "execution_count": 8,
   "metadata": {},
   "outputs": [],
   "source": [
    "def create_proto_template(package_name: str, df: pd.DataFrame):\n",
    "    d = []\n",
    "    for name, dtype in df.dtypes.to_dict().items():\n",
    "        match dtype:\n",
    "            case \"string\":\n",
    "                d.append([\"string\", name])\n",
    "            case \"Float64\":\n",
    "                d.append([\"float\", name])\n",
    "            case \"Int64\":\n",
    "                d.append([\"int64\", name])\n",
    "            case \"datetime64[ns]\":\n",
    "                d.append([\"google.protobuf.Timestamp\", name])\n",
    "    \n",
    "    template = f'\\\n",
    "syntax = \"proto3\";\\n\\\n",
    "import \"google/protobuf/timestamp.proto\";\\n\\n\\\n",
    "package {package_name};\\n\\\n",
    "message {package_name}_message {{\\n\\\n",
    "'\n",
    "\n",
    "    template += \"\\n\".join(f\"    {e[0]} {e[1]} = {d.index(e) + 1};\" for e in d)\n",
    "    template += \"\\n}\"\n",
    "    return template"
   ]
  },
  {
   "cell_type": "code",
   "execution_count": 9,
   "metadata": {},
   "outputs": [],
   "source": [
    "# Does NOT work (yoinked from net)\n",
    "\n",
    "import pandas as pd\n",
    "from google.protobuf.descriptor_pb2 import FieldDescriptorProto\n",
    "from google.protobuf.descriptor_pb2 import FileDescriptorProto\n",
    "from google.protobuf.compiler.plugin_pb2 import CodeGeneratorRequest\n",
    "from google.protobuf.compiler.plugin_pb2 import CodeGeneratorResponse\n",
    "\n",
    "def create_protobuf_template(df):\n",
    "    # Create a FileDescriptorProto\n",
    "    file_descriptor_proto = FileDescriptorProto()\n",
    "\n",
    "    # Create a message type for the DataFrame\n",
    "    message_type = file_descriptor_proto.message_type.add()\n",
    "    message_type.name = \"DataFrame\"\n",
    "\n",
    "    # Iterate over the columns of the DataFrame\n",
    "    for column_name, column_type in df.dtypes.items():\n",
    "        # Create a field descriptor for each column\n",
    "        field_descriptor = message_type.field.add()\n",
    "        field_descriptor.name = column_name\n",
    "\n",
    "        # Map Pandas dtype to Protobuf field type\n",
    "        if column_type == \"int64\":\n",
    "            field_descriptor.type = FieldDescriptorProto.TYPE_INT64\n",
    "        elif column_type == \"float64\":\n",
    "            field_descriptor.type = FieldDescriptorProto.TYPE_DOUBLE\n",
    "        elif column_type == \"bool\":\n",
    "            field_descriptor.type = FieldDescriptorProto.TYPE_BOOL\n",
    "        elif column_type == \"object\":\n",
    "            field_descriptor.type = FieldDescriptorProto.TYPE_STRING\n",
    "        elif column_type == \"datetime64[ns]\":\n",
    "            field_descriptor.type = FieldDescriptorProto.TYPE_STRING\n",
    "        else:\n",
    "            field_descriptor.type = FieldDescriptorProto.TYPE_STRING\n",
    "\n",
    "    # Return the serialized FileDescriptorProto\n",
    "    return file_descriptor_proto.SerializeToString()"
   ]
  },
  {
   "cell_type": "code",
   "execution_count": 10,
   "metadata": {},
   "outputs": [],
   "source": [
    "# proto template exaple\n",
    "# package_name = \"m_beach\"\n",
    "\n",
    "# protobuf_template = create_proto_template(package_name, df)\n",
    "# print(protobuf_template)"
   ]
  },
  {
   "cell_type": "code",
   "execution_count": 11,
   "metadata": {},
   "outputs": [],
   "source": [
    "# Write the byte string to a file.\n",
    "# proto_filename = package_name + \".proto\"\n",
    "\n",
    "# with open(os.path.join(PROTOS_FOLDER_ABS_PATH, proto_filename), \"w\") as f:\n",
    "#     f.write(protobuf_template)"
   ]
  },
  {
   "cell_type": "markdown",
   "metadata": {},
   "source": [
    "## compiling proto file"
   ]
  },
  {
   "cell_type": "code",
   "execution_count": 12,
   "metadata": {},
   "outputs": [],
   "source": [
    "# Proto file compilation funciton (creates {proto_filename}_pb2.py file)\n",
    "def compile_proto(proto_filename):\n",
    "    proto_abs_path = os.path.join(PROTOS_FOLDER, proto_filename)\n",
    "    compile_proto_command = f\"{PROTOC_EXE} --python_out=. {proto_abs_path} \"\n",
    "    os.system(compile_proto_command)"
   ]
  },
  {
   "cell_type": "code",
   "execution_count": 13,
   "metadata": {},
   "outputs": [],
   "source": [
    "# Proto file compilation exapmle\n",
    "\n",
    "# compile_proto(proto_filename)"
   ]
  },
  {
   "cell_type": "markdown",
   "metadata": {},
   "source": [
    "## loading data into python descriptor of proto message "
   ]
  },
  {
   "cell_type": "code",
   "execution_count": 14,
   "metadata": {},
   "outputs": [],
   "source": [
    "# util function for timestamps calculaitons, conversion and validation\n",
    "def str2unix(dt: str) -> tuple[int, int]:\n",
    "    # Converts ISO8601 timstamp string into POSIX timestamp tuple (seconds, nanoseconds)\n",
    "    dt_unix = dp.parse(dt).timestamp()\n",
    "    \n",
    "    seconds = int(dt_unix)\n",
    "    nanos   = int(dt_unix % 1 * 1e9)\n",
    "\n",
    "    return (seconds, nanos)\n",
    "\n",
    "\n",
    "def pdTimestamp2unix(dt: pd.Timestamp) -> tuple[int, int]:\n",
    "    return str2unix(dt.isoformat())\n",
    "\n",
    "\n",
    "def datetime_valid(dt_str):\n",
    "    try:\n",
    "        datetime.datetime.fromisoformat(dt_str)\n",
    "    except:\n",
    "        return False\n",
    "    return True\n",
    "\n",
    "\n",
    "# json encoder and decoder for timestamp conversion handling\n",
    "class _JSONDecoder(json.JSONDecoder):\n",
    "    def __init__(self, *args, **kwargs):\n",
    "        json.JSONDecoder.__init__(\n",
    "            self, object_hook=self.object_hook, *args, **kwargs)\n",
    "\n",
    "    def object_hook(self, obj):\n",
    "        ret = {}\n",
    "        for key, value in obj.items():\n",
    "            if key in {'timestamp', 'whatever'}:\n",
    "                ret[key] = datetime.fromisoformat(value) \n",
    "            else:\n",
    "                ret[key] = value\n",
    "        return ret\n",
    "\n",
    "    \n",
    "class _JSONEncoder(json.JSONEncoder):\n",
    "    def default(self, obj):\n",
    "        if isinstance(obj, (datetime.date, datetime.datetime, pd.Timestamp, )):\n",
    "            return obj.isoformat()\n",
    "        return json.JSONEncoder.default(obj)"
   ]
  },
  {
   "cell_type": "code",
   "execution_count": 49,
   "metadata": {},
   "outputs": [],
   "source": [
    "# Function to fill package_message with data from DataFrame\n",
    "def fill_package_from_df(package_name: str, df_dict: list[dict], item: int):\n",
    "    # df_dict - df.to_dict(orient=\"records\"); item - number of record in df\n",
    "    package = importlib.import_module(PROTOS_FOLDER + \".\" + package_name + \"_pb2\")\n",
    "    package_message = getattr(package, package_name + \"_message\")()\n",
    "\n",
    "    for field, value in df_dict[item].items():\n",
    "        if value is None:\n",
    "            continue\n",
    "        if type(value) is pd.Timestamp:\n",
    "            seconds, nanos = pdTimestamp2unix(value)\n",
    "            setattr(getattr(package_message, field), \"seconds\", seconds)\n",
    "            setattr(getattr(package_message, field), \"nanos\", nanos)\n",
    "        else:\n",
    "            try:\n",
    "                setattr(package_message, field, value)\n",
    "            except Exception as e:\n",
    "                print(f\"Exception: {e} | field: {field} | value: {value}\")\n",
    "    \n",
    "    return package_message\n",
    "\n",
    "\n",
    "def fill_packages_from_df(package_name: str, df_dict: list[dict]) -> list:\n",
    "    package = importlib.import_module(PROTOS_FOLDER + \".\" + package_name + \"_pb2\")\n",
    "    package_messages = []\n",
    "    \n",
    "    for item in range(len(df_dict)):\n",
    "        package_message = None\n",
    "        package_message = getattr(package, package_name + \"_message\")()\n",
    "        for field, value in df_dict[item].items():\n",
    "            \n",
    "            if value is None:\n",
    "                continue\n",
    "            if type(value) is pd.Timestamp:\n",
    "                seconds, nanos = pdTimestamp2unix(value)\n",
    "                setattr(getattr(package_message, field), \"seconds\", seconds)\n",
    "                setattr(getattr(package_message, field), \"nanos\", nanos)\n",
    "            else:\n",
    "                try:\n",
    "                    setattr(package_message, field, value)\n",
    "                except Exception as e:\n",
    "                    print(f\"Exception: {e} | field: {field} | value: {value}\")\n",
    "        \n",
    "        package_messages.append(package_message)\n",
    "    \n",
    "    return package_messages\n",
    "    \n"
   ]
  },
  {
   "cell_type": "code",
   "execution_count": 16,
   "metadata": {},
   "outputs": [],
   "source": [
    "# Function to fill package_message with data from dict\n",
    "def fill_package_from_dict(package_name: str, message: dict):\n",
    "    # message - dict (json)\n",
    "    package = importlib.import_module(PROTOS_FOLDER + \".\" + package_name + \"_pb2\")\n",
    "    package_message = getattr(package, package_name + \"_message\")()\n",
    "\n",
    "    for field, value in message.items():\n",
    "        if value is None:\n",
    "            continue\n",
    "        if datetime_valid(value):\n",
    "            seconds, nanos = str2unix(value)\n",
    "            setattr(getattr(package_message, field), \"seconds\", seconds)\n",
    "            setattr(getattr(package_message, field), \"nanos\", nanos)\n",
    "        elif type(value) is pd.Timestamp:\n",
    "            seconds, nanos = pdTimestamp2unix(value)\n",
    "            setattr(getattr(package_message, field), \"seconds\", seconds)\n",
    "            setattr(getattr(package_message, field), \"nanos\", nanos)\n",
    "        else:\n",
    "            try:\n",
    "                setattr(package_message, field, value)\n",
    "            except Exception as e:\n",
    "                print(f\"Exception: {e} | field: {field} | value: {value}\")\n",
    "    \n",
    "    return package_message"
   ]
  },
  {
   "cell_type": "code",
   "execution_count": 17,
   "metadata": {},
   "outputs": [],
   "source": [
    "# example of filling message with data from df and dicts with pd.Timestamp and timestamp in str \n",
    "# \n",
    "# NOTE: json format does not specify timestamp format, so i used most commonly used - ISO8601, \n",
    "# using custom JSONEncoder/JSONDecoder\n",
    "\n",
    "# item = 0\n",
    "# message = df_dict[item] # dict with pd.Timestamp as timestamp\n",
    "# message_json = json.dumps(message, cls=_JSONEncoder)\n",
    "\n",
    "# package_message = fill_package_from_df(package_name, df_dict, item)\n",
    "# package_message1 = fill_package_from_dict(package_name, message)\n",
    "# # message = json.loads(message_json) # dict with str ISO8601 as timestamp\n",
    "# package_message2 = fill_package_from_dict(package_name, json.loads(message_json))\n",
    "\n",
    "# print(package_message == package_message1 == package_message2)"
   ]
  },
  {
   "cell_type": "code",
   "execution_count": 18,
   "metadata": {},
   "outputs": [],
   "source": [
    "# message, message_json\n"
   ]
  },
  {
   "cell_type": "markdown",
   "metadata": {},
   "source": [
    "## serializing/deserializing + io"
   ]
  },
  {
   "cell_type": "code",
   "execution_count": 19,
   "metadata": {},
   "outputs": [],
   "source": [
    "# Serialize/deserialize functions\n",
    "\n",
    "def proto_serialize(package_message):\n",
    "    return package_message.SerializeToString()\n",
    "\n",
    "\n",
    "def proto_deserialize(package_message_serialized, package_name: str):\n",
    "    package = importlib.import_module(PROTOS_FOLDER + \".\" + package_name + \"_pb2\")\n",
    "    package_class = getattr(package, package_name + \"_message\")\n",
    "\n",
    "    package_message = package_class.FromString(package_message_serialized)\n",
    "    \n",
    "    return package_message"
   ]
  },
  {
   "cell_type": "code",
   "execution_count": 20,
   "metadata": {},
   "outputs": [],
   "source": [
    "# IO funcitons for package_message \n",
    "\n",
    "# writing package_message to the file\n",
    "def write_package(package_message, package_bin_filename):\n",
    "    with open(package_bin_filename, \"wb\") as f:\n",
    "        package_message_serialized = proto_serialize(package_message)\n",
    "        f.write(package_message_serialized)\n",
    "    \n",
    "    return package_message_serialized\n",
    "    \n",
    "\n",
    "\n",
    "# reading package_message from the file\n",
    "def read_package(package_bin_filename, package_name):\n",
    "    with open(package_bin_filename, \"rb\") as f:\n",
    "        package_message_serialized = f.read()\n",
    "        \n",
    "        package_message = proto_deserialize(package_message_serialized, package_name)\n",
    "\n",
    "    return package_message"
   ]
  },
  {
   "cell_type": "code",
   "execution_count": 21,
   "metadata": {},
   "outputs": [],
   "source": [
    "# example usage of serialization\n",
    "# package_bin_filename = package_name + \".bin\"\n",
    "\n",
    "# package_message_serialized   = write_package(package_message, package_bin_filename)\n",
    "# package_message_deserialized = read_package(package_bin_filename, package_name)\n"
   ]
  },
  {
   "cell_type": "code",
   "execution_count": 22,
   "metadata": {},
   "outputs": [],
   "source": [
    "# dumping json file\n",
    "# package_json_filename = package_name + \".json\"\n",
    "# with open(package_name + \".json\", \"w\") as f:\n",
    "#     json.dump(message, f, cls=_JSONEncoder)\n",
    "# with open(package_name + \"1.json\", \"w\") as f:\n",
    "#     f.write(message_json)\n"
   ]
  },
  {
   "cell_type": "code",
   "execution_count": 23,
   "metadata": {},
   "outputs": [],
   "source": [
    "# util funcitons for bit <-> byte conversion and size finding\n",
    "\n",
    "def to_bits(byte_string: bytes) -> str:\n",
    "    # Convert byte string into bit string\n",
    "    return bin(int.from_bytes(byte_string, byteorder='big'))[2:]  # Remove '0b' prefix from binary string\n",
    "\n",
    "\n",
    "def to_bytes(bit_string: str) -> bytes:\n",
    "    # Convert bit string into byte string\n",
    "    return int(bit_string, 2).to_bytes((len(bit_string) + 7) // 8, byteorder='big')\n",
    "\n",
    "\n",
    "def bitsize(data: bytes | str) -> int:\n",
    "    if type(data) == bytes:\n",
    "        return len(to_bits(data))\n",
    "    elif type(data) == str and set(data) <= {'0', '1'}:\n",
    "        return len(data)\n",
    "    else:\n",
    "        return 0"
   ]
  },
  {
   "cell_type": "code",
   "execution_count": 24,
   "metadata": {},
   "outputs": [],
   "source": [
    "# example of using bit/byte conversion + size finding\n",
    "# to_bits(package_message_serialized), bitsize(package_message_serialized), to_bytes(to_bits(package_message_serialized)) == package_message_serialized"
   ]
  },
  {
   "cell_type": "code",
   "execution_count": 25,
   "metadata": {},
   "outputs": [],
   "source": [
    "# sizes comparison\n",
    "\n",
    "# print(f\"message size (dict):                {getsizeof(message)}\")\n",
    "# print(f\"message_json size (str of json):    {getsizeof(message_json)}\")\n",
    "# print()\n",
    "# print(f\"bin file size:                      {os.path.getsize(package_bin_filename)}\")\n",
    "# print(f\"json file size:                     {os.path.getsize(package_json_filename)}\")\n",
    "# print()\n",
    "# print(f\"package_message size:               {getsizeof(package_message)}\")\n",
    "# print(f\"package_message_serialized bits:    {bitsize(package_message_serialized)}\")\n",
    "# print()\n",
    "# print(f\"ratio of serialized/json files:     {os.path.getsize(package_json_filename) / os.path.getsize(package_bin_filename)}\")\n",
    "# print(f\"package_message == package_message_deserialized: {package_message == package_message_deserialized}\")"
   ]
  },
  {
   "cell_type": "markdown",
   "metadata": {},
   "source": [
    "### etc"
   ]
  },
  {
   "cell_type": "code",
   "execution_count": 26,
   "metadata": {},
   "outputs": [],
   "source": [
    "# print([field.name for field in package_message.DESCRIPTOR.fields])\n"
   ]
  },
  {
   "cell_type": "markdown",
   "metadata": {},
   "source": [
    "# Compression"
   ]
  },
  {
   "cell_type": "markdown",
   "metadata": {},
   "source": [
    "## libraries algorithms comparison"
   ]
  },
  {
   "cell_type": "code",
   "execution_count": 27,
   "metadata": {},
   "outputs": [],
   "source": [
    "from collections import Counter\n",
    "\n",
    "import zlib, gzip, bz2, lzma, lz4.frame, zstd, brotli"
   ]
  },
  {
   "cell_type": "code",
   "execution_count": 28,
   "metadata": {},
   "outputs": [],
   "source": [
    "# pb_msg = package_message_serialized\n",
    "\n",
    "# pb_ratio_zlib     = bitsize(pb_msg) / bitsize(zlib.compress(pb_msg))\n",
    "# pb_ratio_gzip     = bitsize(pb_msg) / bitsize(gzip.compress(pb_msg))\n",
    "# pb_ratio_bz2      = bitsize(pb_msg) / bitsize(bz2.compress(pb_msg))\n",
    "# pb_ratio_lzma     = bitsize(pb_msg) / bitsize(lzma.compress(pb_msg))\n",
    "# pb_ratio_lz4      = bitsize(pb_msg) / bitsize(lz4.frame.compress(pb_msg))\n",
    "# pb_ratio_zstd     = bitsize(pb_msg) / bitsize(zstd.compress(pb_msg, 1))\n",
    "# pb_ratio_brotli   = bitsize(pb_msg) / bitsize(brotli.compress(pb_msg))\n",
    "\n",
    "\n",
    "\n",
    "# print(f'pb_ratio_zlib:        {pb_ratio_zlib}\\\n",
    "#       \\npb_ratio_gzip:        {pb_ratio_gzip}\\\n",
    "#       \\npb_ratio_bz2:         {pb_ratio_bz2}\\\n",
    "#       \\npb_ratio_lzma:        {pb_ratio_lzma}\\\n",
    "#       \\npb_ration_lz4:        {pb_ratio_lz4}\\\n",
    "#       \\npb_ration_zstd(1):    {pb_ratio_zstd}\\\n",
    "#       \\npb_ration_brotli(11): {pb_ratio_brotli}\\\n",
    "# '\n",
    "# )"
   ]
  },
  {
   "cell_type": "code",
   "execution_count": 29,
   "metadata": {},
   "outputs": [],
   "source": [
    "# j_msg = bytes(message_json, \"utf-8\")\n",
    "\n",
    "# j_ratio_zlib      = bitsize(j_msg)  / bitsize(zlib.compress(j_msg))\n",
    "# j_ratio_gzip      = bitsize(j_msg)  / bitsize(gzip.compress(j_msg))\n",
    "# j_ratio_bz2       = bitsize(j_msg)  / bitsize(bz2.compress(j_msg)) \n",
    "# j_ratio_lzma      = bitsize(j_msg)  / bitsize(lzma.compress(j_msg))\n",
    "# j_ratio_lz4       = bitsize(j_msg)  / bitsize(lz4.frame.compress(j_msg))\n",
    "# j_ratio_zstd      = bitsize(j_msg)  / bitsize(zstd.compress(j_msg, 1))\n",
    "# j_ratio_brotli    = bitsize(j_msg)  / bitsize(brotli.compress(j_msg))\n",
    "\n",
    "# print(f'j_ratio_zlib:         {j_ratio_zlib}\\\n",
    "#       \\nj_ratio_gzip:         {j_ratio_gzip}\\\n",
    "#       \\nj_ratio_bz2:          {j_ratio_bz2}\\\n",
    "#       \\nj_ratio_lzma:         {j_ratio_lzma}\\\n",
    "#       \\nj_ration_lz4:         {j_ratio_lz4}\\\n",
    "#       \\nj_ration_zstd(1):     {j_ratio_zstd}\\\n",
    "#       \\nj_ration_brotli(11):  {j_ratio_brotli}\\\n",
    "# '\n",
    "# )"
   ]
  },
  {
   "cell_type": "markdown",
   "metadata": {},
   "source": [
    "## Huffman"
   ]
  },
  {
   "cell_type": "code",
   "execution_count": 30,
   "metadata": {},
   "outputs": [],
   "source": [
    "# Huffman encoding algorithm\n",
    "\n",
    "import heapq\n",
    "from collections import defaultdict\n",
    "\n",
    "class Node:\n",
    "    def __init__(self, char=None, freq=0, left=None, right=None):\n",
    "        self.char = char\n",
    "        self.freq = freq\n",
    "        self.left = left\n",
    "        self.right = right\n",
    "\n",
    "    def __lt__(self, other):\n",
    "        if self.freq == other.freq:\n",
    "            return self.char < other.char if self.char and other.char else False\n",
    "        return self.freq < other.freq\n",
    "\n",
    "    def __eq__(self, other):\n",
    "        return self.freq == other.freq and self.char == other.char\n",
    "\n",
    "def build_huffman_tree(freq_dict):\n",
    "    priority_queue = [Node(char, freq) for char, freq in freq_dict.items()]\n",
    "    heapq.heapify(priority_queue)\n",
    "\n",
    "    while len(priority_queue) > 1:\n",
    "        left = heapq.heappop(priority_queue)\n",
    "        right = heapq.heappop(priority_queue)\n",
    "        new_node = Node(freq=left.freq + right.freq, left=left, right=right)\n",
    "        heapq.heappush(priority_queue, new_node)\n",
    "\n",
    "    return priority_queue[0]\n",
    "\n",
    "\n",
    "def build_frequency_dict(data):\n",
    "    freq_dict = defaultdict(int)\n",
    "    for char in data:\n",
    "        freq_dict[char] += 1\n",
    "    return freq_dict\n",
    "\n",
    "def build_codewords(node, current_code=\"\", code_dict=None):\n",
    "    if code_dict is None:\n",
    "        code_dict = {}\n",
    "\n",
    "    if node.char is not None:\n",
    "        code_dict[node.char] = current_code\n",
    "        return code_dict\n",
    "\n",
    "    code_dict = build_codewords(node.left, current_code + \"0\", code_dict)\n",
    "    code_dict = build_codewords(node.right, current_code + \"1\", code_dict)\n",
    "\n",
    "    return code_dict\n",
    "\n",
    "def huffman_encode(data):\n",
    "    freq_dict = build_frequency_dict(data)\n",
    "    huffman_tree = build_huffman_tree(freq_dict)\n",
    "    codewords = build_codewords(huffman_tree)\n",
    "\n",
    "    encoded_data = \"\".join(codewords[char] for char in data)\n",
    "    return encoded_data, huffman_tree\n",
    "\n",
    "def huffman_decode(encoded_data, huffman_tree):\n",
    "    decoded_data = bytearray()\n",
    "    current_node = huffman_tree\n",
    "\n",
    "    for bit in encoded_data:\n",
    "        if bit == \"0\":\n",
    "            current_node = current_node.left\n",
    "        else:\n",
    "            current_node = current_node.right\n",
    "\n",
    "        if current_node.char is not None:\n",
    "            decoded_data.append(ord(current_node.char))\n",
    "            current_node = huffman_tree\n",
    "\n",
    "    return bytes(decoded_data)\n",
    "\n",
    "\n",
    "def serialize_tree(node):\n",
    "    if node.char is not None:\n",
    "        return '1' + bin(node.char)[2:].zfill(8)\n",
    "    else:\n",
    "        return '0' + serialize_tree(node.left) + serialize_tree(node.right)\n",
    "\n",
    "\n",
    "def deserialize_tree(data):\n",
    "    def helper(index):\n",
    "        if data[index] == '1':\n",
    "            char = chr(int(data[index + 1:index + 9], 2))\n",
    "            return Node(char=char), index + 9\n",
    "        else:\n",
    "            left, index = helper(index + 1)\n",
    "            right, index = helper(index)\n",
    "            return Node(left=left, right=right), index\n",
    "\n",
    "    root, _ = helper(0)\n",
    "    return root\n"
   ]
  },
  {
   "cell_type": "code",
   "execution_count": 31,
   "metadata": {},
   "outputs": [],
   "source": [
    "# example of huffman usage\n",
    "\n",
    "# encoded_data, huffman_tree = huffman_encode(package_message_serialized)\n",
    "\n",
    "# # Serialize the Huffman tree\n",
    "# serialized_tree = serialize_tree(huffman_tree)\n",
    "\n",
    "# # Deserialize the Huffman tree\n",
    "# deserialized_tree = deserialize_tree(serialized_tree)\n",
    "\n",
    "# # The rest of the code remains the same...\n",
    "# # encoded_data = \"\".join(build_codewords(deserialized_tree)[char] for char in package_message_serialized)\n",
    "# decoded_data = huffman_decode(encoded_data, deserialized_tree)\n",
    "\n",
    "# print(f\"Original data:      {package_message_serialized}\")\n",
    "# print(f\"Decoded data:       {decoded_data}\")\n",
    "# print(f\"Decoded data == Original data: {package_message_serialized == decoded_data}\")\n",
    "# print(f\"Encoded data:       {encoded_data}\")\n",
    "# print(f\"Serialized tree:    {serialized_tree}\")\n",
    "# print()\n",
    "# print(f\"Encoded data bit length:    {bitsize(encoded_data)}\")\n",
    "# print(f\"Serialized tree bit length: {bitsize(serialized_tree)}\")\n",
    "# print(f\"Compression ratio:          {(bitsize(encoded_data) + bitsize(serialized_tree)) / bitsize(package_message_serialized)}\")"
   ]
  },
  {
   "cell_type": "markdown",
   "metadata": {},
   "source": [
    "# rANS PyComP"
   ]
  },
  {
   "cell_type": "code",
   "execution_count": 32,
   "metadata": {},
   "outputs": [],
   "source": [
    "# from collections import Counter\n",
    "# counter = Counter(pb_msg)\n",
    "\n",
    "# pb_msg_chr = ''.join([chr(i) for i in counter.keys()])"
   ]
  },
  {
   "cell_type": "code",
   "execution_count": 33,
   "metadata": {},
   "outputs": [],
   "source": [
    "# from libs.PyComP import ANS\n",
    "# msg_counter = Counter(pb_msg_chr)\n",
    "# ans = ANS.rANS(list(msg_counter.keys()), list(msg_counter.values()))\n",
    "# msg_enc, final_state = ans.encode([chr(i) for i in pb_msg], 0)\n",
    "# msg_dec = ''.join(ans.decode(msg_enc, final_state))\n"
   ]
  },
  {
   "cell_type": "code",
   "execution_count": 34,
   "metadata": {},
   "outputs": [],
   "source": [
    "# pb_msg_chr, pb_msg_chr, msg_enc[2:], len(msg_enc[2:])\n"
   ]
  },
  {
   "cell_type": "markdown",
   "metadata": {},
   "source": [
    "# Cooking"
   ]
  },
  {
   "cell_type": "code",
   "execution_count": 35,
   "metadata": {},
   "outputs": [
    {
     "data": {
      "text/plain": [
       "{'ASCCDCV': {'package_name': 'ASCCDCV_package',\n",
       "  'protobuf_template': 'syntax = \"proto3\";\\nimport \"google/protobuf/timestamp.proto\";\\n\\npackage ASCCDCV_package;\\nmessage ASCCDCV_package_message {\\n    float a_no2 = 1;\\n    float a_ufp = 2;\\n    float a_bc = 3;\\n    float n_no2 = 4;\\n    float n_ufp = 5;\\n    float n_bc = 6;\\n    float v_no2 = 7;\\n    float v_ufp = 8;\\n    float v_bc = 9;\\n    float n_core_no2 = 10;\\n    float n_core_ufp = 11;\\n    float n_core_bc = 12;\\n}',\n",
       "  'proto_filename': 'ASCCDCV_package.proto'},\n",
       " 'ARGAZAL': {'package_name': 'ARGAZAL_package',\n",
       "  'protobuf_template': 'syntax = \"proto3\";\\nimport \"google/protobuf/timestamp.proto\";\\n\\npackage ARGAZAL_package;\\nmessage ARGAZAL_package_message {\\n    float z1ufp_nw = 1;\\n    float z1bc_nw = 2;\\n    float z1no2_nw = 3;\\n    float z1ufp_ew = 4;\\n    float z1bc_ew = 5;\\n    float z1no2_ew = 6;\\n    float z1ufp_sw = 7;\\n    float z1bc_sw = 8;\\n    float z1no2_sw = 9;\\n    float z2ufp_nw = 10;\\n    float z2bc_nw = 11;\\n    float z2no2_nw = 12;\\n    float z2ufp_ew = 13;\\n    float z2bc_ew = 14;\\n    float z2no2_ew = 15;\\n    float z2ufp_sw = 16;\\n    float z2bc_sw = 17;\\n    float z2no2_sw = 18;\\n    float z3ufp_nw = 19;\\n    float z3bc_nw = 20;\\n    float z3no2_nw = 21;\\n    float z3ufp_ew = 22;\\n    float z3bc_ew = 23;\\n    float z3no2_ew = 24;\\n    float z3ufp_sw = 25;\\n    float z3bc_sw = 26;\\n    float z3no2_sw = 27;\\n}',\n",
       "  'proto_filename': 'ARGAZAL_package.proto'},\n",
       " 'ARMAZAL': {'package_name': 'ARMAZAL_package',\n",
       "  'protobuf_template': 'syntax = \"proto3\";\\nimport \"google/protobuf/timestamp.proto\";\\n\\npackage ARMAZAL_package;\\nmessage ARMAZAL_package_message {\\n    int64 mo = 1;\\n    int64 dy = 2;\\n    int64 yr = 3;\\n    float z1ufp_nw = 4;\\n    float z1bc_nw = 5;\\n    float z1no2_nw = 6;\\n    float z1ufp_ew = 7;\\n    float z1bc_ew = 8;\\n    float z1no2_ew = 9;\\n    float z1ufp_sw = 10;\\n    float z1bc_sw = 11;\\n    float z1no2_sw = 12;\\n    float z2ufp_nw = 13;\\n    float z2bc_nw = 14;\\n    float z2no2_nw = 15;\\n    float z2ufp_ew = 16;\\n    float z2bc_ew = 17;\\n    float z2no2_ew = 18;\\n    float z2ufp_sw = 19;\\n    float z2bc_sw = 20;\\n    float z2no2_sw = 21;\\n    float z3ufp_nw = 22;\\n    float z3bc_nw = 23;\\n    float z3no2_nw = 24;\\n    float z3ufp_ew = 25;\\n    float z3bc_ew = 26;\\n    float z3no2_ew = 27;\\n    float z3ufp_sw = 28;\\n    float z3bc_sw = 29;\\n    float z3no2_sw = 30;\\n    float z4ufp_nw = 31;\\n    float z4bc_nw = 32;\\n    float z4no2_nw = 33;\\n    float z4ufp_ew = 34;\\n    float z4bc_ew = 35;\\n    float z4no2_ew = 36;\\n    float z4ufp_sw = 37;\\n    float z4bc_sw = 38;\\n    float z4no2_sw = 39;\\n}',\n",
       "  'proto_filename': 'ARMAZAL_package.proto'},\n",
       " 'BWQAS': {'package_name': 'BWQAS_package',\n",
       "  'protobuf_template': 'syntax = \"proto3\";\\nimport \"google/protobuf/timestamp.proto\";\\n\\npackage BWQAS_package;\\nmessage BWQAS_package_message {\\n    string beach_name = 1;\\n    google.protobuf.Timestamp measurement_timestamp = 2;\\n    float water_temperature = 3;\\n    float turbidity = 4;\\n    float transducer_depth = 5;\\n    float wave_height = 6;\\n    int64 wave_period = 7;\\n    float battery_life = 8;\\n    string measurement_timestamp_label = 9;\\n    string measurement_id = 10;\\n}',\n",
       "  'proto_filename': 'BWQAS_package.proto'},\n",
       " 'BWSAS': {'package_name': 'BWSAS_package',\n",
       "  'protobuf_template': 'syntax = \"proto3\";\\nimport \"google/protobuf/timestamp.proto\";\\n\\npackage BWSAS_package;\\nmessage BWSAS_package_message {\\n    string station_name = 1;\\n    google.protobuf.Timestamp measurement_timestamp = 2;\\n    float air_temperature = 3;\\n    float wet_bulb_temperature = 4;\\n    int64 humidity = 5;\\n    float rain_intensity = 6;\\n    float interval_rain = 7;\\n    float total_rain = 8;\\n    int64 precipitation_type = 9;\\n    int64 wind_direction = 10;\\n    float wind_speed = 11;\\n    float maximum_wind_speed = 12;\\n    float barometric_pressure = 13;\\n    int64 solar_radiation = 14;\\n    int64 heading = 15;\\n    float battery_life = 16;\\n    string measurement_timestamp_label = 17;\\n    string measurement_id = 18;\\n}',\n",
       "  'proto_filename': 'BWSAS_package.proto'},\n",
       " 'IOTNL': {'package_name': 'IOTNL_package',\n",
       "  'protobuf_template': 'syntax = \"proto3\";\\nimport \"google/protobuf/timestamp.proto\";\\n\\npackage IOTNL_package;\\nmessage IOTNL_package_message {\\n    int64 framenumber = 1;\\n    int64 frametime = 2;\\n    int64 framelen = 3;\\n    int64 ethsrc = 4;\\n    int64 ethdst = 5;\\n    int64 ipsrc = 6;\\n    int64 ipdst = 7;\\n    int64 ipproto = 8;\\n    float iplen = 9;\\n    float tcplen = 10;\\n    float tcpsrcport = 11;\\n    int64 tcpdstport = 12;\\n    float value = 13;\\n    int64 normality = 14;\\n}',\n",
       "  'proto_filename': 'IOTNL_package.proto'},\n",
       " 'IOTTEMP': {'package_name': 'IOTTEMP_package',\n",
       "  'protobuf_template': 'syntax = \"proto3\";\\nimport \"google/protobuf/timestamp.proto\";\\n\\npackage IOTTEMP_package;\\nmessage IOTTEMP_package_message {\\n    string id = 1;\\n    string room_idid = 2;\\n    google.protobuf.Timestamp noted_date = 3;\\n    int64 temp = 4;\\n    string outin = 5;\\n}',\n",
       "  'proto_filename': 'IOTTEMP_package.proto'},\n",
       " 'IOT1': {'package_name': 'IOT1_package',\n",
       "  'protobuf_template': 'syntax = \"proto3\";\\nimport \"google/protobuf/timestamp.proto\";\\n\\npackage IOT1_package;\\nmessage IOT1_package_message {\\n    google.protobuf.Timestamp created_at = 1;\\n    int64 entry_id = 2;\\n    float temperature_c = 3;\\n    int64 turbidityntu = 4;\\n    float dissolved_oxygengml = 5;\\n    float ph = 6;\\n    float ammoniagml = 7;\\n    int64 nitrategml = 8;\\n    int64 population = 9;\\n    float fish_lengthcm = 10;\\n    float fish_weightg = 11;\\n}',\n",
       "  'proto_filename': 'IOT1_package.proto'},\n",
       " 'IOT2': {'package_name': 'IOT2_package',\n",
       "  'protobuf_template': 'syntax = \"proto3\";\\nimport \"google/protobuf/timestamp.proto\";\\n\\npackage IOT2_package;\\nmessage IOT2_package_message {\\n    string created_at = 1;\\n    int64 entry_id = 2;\\n    float temperature_c = 3;\\n    int64 turbidity_ntu = 4;\\n    float dissolved_oxygengml = 5;\\n    float ph = 6;\\n    float ammoniagml = 7;\\n    int64 nitrategml = 8;\\n    int64 population = 9;\\n    float fish_length_cm = 10;\\n    float fish_weight_g = 11;\\n}',\n",
       "  'proto_filename': 'IOT2_package.proto'},\n",
       " 'IOT3': {'package_name': 'IOT3_package',\n",
       "  'protobuf_template': 'syntax = \"proto3\";\\nimport \"google/protobuf/timestamp.proto\";\\n\\npackage IOT3_package;\\nmessage IOT3_package_message {\\n    google.protobuf.Timestamp created_at = 1;\\n    int64 entry_id = 2;\\n    float temperaturec = 3;\\n    int64 turbidityntu = 4;\\n    float dissolved_oxygengml = 5;\\n    float ph = 6;\\n    float ammoniagml = 7;\\n    int64 nitrategml = 8;\\n    int64 population = 9;\\n    float fish_lengthcm = 10;\\n    float fish_weightg = 11;\\n}',\n",
       "  'proto_filename': 'IOT3_package.proto'},\n",
       " 'IOT4': {'package_name': 'IOT4_package',\n",
       "  'protobuf_template': 'syntax = \"proto3\";\\nimport \"google/protobuf/timestamp.proto\";\\n\\npackage IOT4_package;\\nmessage IOT4_package_message {\\n    string created_at = 1;\\n    int64 entry_id = 2;\\n    float temperaturec = 3;\\n    int64 turbidityntu = 4;\\n    float dissolved_oxygengml = 5;\\n    float ph = 6;\\n    float ammoniagml = 7;\\n    int64 nitrategml = 8;\\n    int64 population = 9;\\n    float fish_lengthcm = 10;\\n    float fish_weightg = 11;\\n}',\n",
       "  'proto_filename': 'IOT4_package.proto'},\n",
       " 'IOT6': {'package_name': 'IOT6_package',\n",
       "  'protobuf_template': 'syntax = \"proto3\";\\nimport \"google/protobuf/timestamp.proto\";\\n\\npackage IOT6_package;\\nmessage IOT6_package_message {\\n    string created_at = 1;\\n    int64 entry_id = 2;\\n    float temperaturec = 3;\\n    int64 turbidityntu = 4;\\n    float dissolved_oxygengml = 5;\\n    float ph = 6;\\n    float ammoniagml = 7;\\n    int64 nitrategml = 8;\\n    int64 population = 9;\\n    float fish_lengthcm = 10;\\n    float fish_weightg = 11;\\n}',\n",
       "  'proto_filename': 'IOT6_package.proto'},\n",
       " 'IOT7': {'package_name': 'IOT7_package',\n",
       "  'protobuf_template': 'syntax = \"proto3\";\\nimport \"google/protobuf/timestamp.proto\";\\n\\npackage IOT7_package;\\nmessage IOT7_package_message {\\n    string created_at = 1;\\n    string date = 2;\\n    int64 entry_id = 3;\\n    float temperaturec = 4;\\n    int64 turbidity_ntu = 5;\\n    float dissolved_oxygen_gml = 6;\\n    float ph = 7;\\n    float ammoniagml = 8;\\n    int64 nitrategml = 9;\\n    float fish_lengthcm = 10;\\n    float fish_weightg = 11;\\n}',\n",
       "  'proto_filename': 'IOT7_package.proto'},\n",
       " 'IOT8': {'package_name': 'IOT8_package',\n",
       "  'protobuf_template': 'syntax = \"proto3\";\\nimport \"google/protobuf/timestamp.proto\";\\n\\npackage IOT8_package;\\nmessage IOT8_package_message {\\n    google.protobuf.Timestamp created_at = 1;\\n    string date = 2;\\n    int64 entry_id = 3;\\n    float temperature_c = 4;\\n    int64 turbidityntu = 5;\\n    float dissolved_oxygen_mgl = 6;\\n    float ph = 7;\\n    float ammonia_mgl = 8;\\n    int64 nitrate_mgl = 9;\\n    float total_length_cm = 10;\\n    float weight_g = 11;\\n}',\n",
       "  'proto_filename': 'IOT8_package.proto'},\n",
       " 'IOT9': {'package_name': 'IOT9_package',\n",
       "  'protobuf_template': 'syntax = \"proto3\";\\nimport \"google/protobuf/timestamp.proto\";\\n\\npackage IOT9_package;\\nmessage IOT9_package_message {\\n    google.protobuf.Timestamp created_at = 1;\\n    string date = 2;\\n    int64 entry_id = 3;\\n    float temperaturec = 4;\\n    int64 turbidityntu = 5;\\n    float dissolved_oxygengml = 6;\\n    float ph = 7;\\n    float ammoniagml = 8;\\n    int64 nitrategml = 9;\\n    float fish_lengthcm = 10;\\n    float fish_weightg = 11;\\n}',\n",
       "  'proto_filename': 'IOT9_package.proto'},\n",
       " 'IOT10': {'package_name': 'IOT10_package',\n",
       "  'protobuf_template': 'syntax = \"proto3\";\\nimport \"google/protobuf/timestamp.proto\";\\n\\npackage IOT10_package;\\nmessage IOT10_package_message {\\n    string created_at = 1;\\n    int64 entry_id = 2;\\n    float temperature = 3;\\n    int64 turbidity = 4;\\n    float disolved_oxygen = 5;\\n    float ph = 6;\\n    float ammonia = 7;\\n    int64 nitrate = 8;\\n    int64 population = 9;\\n    float length = 10;\\n    float weight = 11;\\n}',\n",
       "  'proto_filename': 'IOT10_package.proto'},\n",
       " 'IOT11': {'package_name': 'IOT11_package',\n",
       "  'protobuf_template': 'syntax = \"proto3\";\\nimport \"google/protobuf/timestamp.proto\";\\n\\npackage IOT11_package;\\nmessage IOT11_package_message {\\n    string created_at = 1;\\n    int64 entry_id = 2;\\n    float temperature = 3;\\n    int64 turbidity = 4;\\n    float disolved_oxygen = 5;\\n    float ph = 6;\\n    float ammonia = 7;\\n    int64 nitrate = 8;\\n    int64 population = 9;\\n    float length = 10;\\n    float weight = 11;\\n}',\n",
       "  'proto_filename': 'IOT11_package.proto'},\n",
       " 'IOT12': {'package_name': 'IOT12_package',\n",
       "  'protobuf_template': 'syntax = \"proto3\";\\nimport \"google/protobuf/timestamp.proto\";\\n\\npackage IOT12_package;\\nmessage IOT12_package_message {\\n    string created_at = 1;\\n    int64 entry_id = 2;\\n    float temperature = 3;\\n    int64 turbidity = 4;\\n    float disolved_oxygen = 5;\\n    float ph = 6;\\n    float ammonia = 7;\\n    int64 nitrate = 8;\\n    int64 population = 9;\\n    float length = 10;\\n    float weight = 11;\\n}',\n",
       "  'proto_filename': 'IOT12_package.proto'},\n",
       " 'TAZAW': {'package_name': 'TAZAW_package',\n",
       "  'protobuf_template': 'syntax = \"proto3\";\\nimport \"google/protobuf/timestamp.proto\";\\n\\npackage TAZAW_package;\\nmessage TAZAW_package_message {\\n    int64 mo = 1;\\n    int64 dy = 2;\\n    int64 yr = 3;\\n    float z1ufp_nw = 4;\\n    float z1bc_nw = 5;\\n    float z1no2_nw = 6;\\n    float z1ufp_ew = 7;\\n    float z1bc_ew = 8;\\n    float z1no2_ew = 9;\\n    float z1ufp_sw = 10;\\n    float z1bc_sw = 11;\\n    float z1no2_sw = 12;\\n    float z2ufp_nw = 13;\\n    float z2bc_nw = 14;\\n    float z2no2_nw = 15;\\n    float z2ufp_ew = 16;\\n    float z2bc_ew = 17;\\n    float z2no2_ew = 18;\\n    float z2ufp_sw = 19;\\n    float z2bc_sw = 20;\\n    float z2no2_sw = 21;\\n    float z3ufp_nw = 22;\\n    float z3bc_nw = 23;\\n    float z3no2_nw = 24;\\n    float z3ufp_ew = 25;\\n    float z3bc_ew = 26;\\n    float z3no2_ew = 27;\\n    float z3ufp_sw = 28;\\n    float z3bc_sw = 29;\\n    float z3no2_sw = 30;\\n}',\n",
       "  'proto_filename': 'TAZAW_package.proto'}}"
      ]
     },
     "execution_count": 35,
     "metadata": {},
     "output_type": "execute_result"
    }
   ],
   "source": [
    "packages = {}\n",
    "packages = {df: {\"package_name\": df+\"_package\"} for df in dfs}\n",
    "\n",
    "for df in dfs:\n",
    "    packages[df][\"protobuf_template\"] = create_proto_template(packages[df][\"package_name\"], dfs[df])\n",
    "\n",
    "for df in dfs:\n",
    "    packages[df][\"proto_filename\"] = packages[df][\"package_name\"] + \".proto\"\n",
    "    with open(os.path.join(PROTOS_FOLDER_ABS_PATH, packages[df][\"proto_filename\"]), \"w\") as f:\n",
    "        f.write(packages[df][\"protobuf_template\"])\n",
    "    compile_proto(packages[df][\"proto_filename\"])\n",
    "\n",
    "packages"
   ]
  },
  {
   "cell_type": "code",
   "execution_count": 36,
   "metadata": {},
   "outputs": [],
   "source": [
    "dfs_dict = {df: dfs[df].to_dict(orient=\"records\") for df in dfs}"
   ]
  },
  {
   "cell_type": "code",
   "execution_count": 53,
   "metadata": {},
   "outputs": [
    {
     "name": "stdout",
     "output_type": "stream",
     "text": [
      "ASCCDCV\n",
      "ARGAZAL\n",
      "ARMAZAL\n",
      "BWQAS\n",
      "Exception: Assignment not allowed to message, map, or repeated field \"measurement_timestamp\" in protocol message object. | field: measurement_timestamp | value: NaT\n",
      "Exception: Assignment not allowed to message, map, or repeated field \"measurement_timestamp\" in protocol message object. | field: measurement_timestamp | value: NaT\n",
      "Exception: Assignment not allowed to message, map, or repeated field \"measurement_timestamp\" in protocol message object. | field: measurement_timestamp | value: NaT\n",
      "Exception: Assignment not allowed to message, map, or repeated field \"measurement_timestamp\" in protocol message object. | field: measurement_timestamp | value: NaT\n",
      "Exception: Assignment not allowed to message, map, or repeated field \"measurement_timestamp\" in protocol message object. | field: measurement_timestamp | value: NaT\n",
      "Exception: Assignment not allowed to message, map, or repeated field \"measurement_timestamp\" in protocol message object. | field: measurement_timestamp | value: NaT\n",
      "BWSAS\n",
      "Exception: Assignment not allowed to message, map, or repeated field \"measurement_timestamp\" in protocol message object. | field: measurement_timestamp | value: NaT\n",
      "Exception: Assignment not allowed to message, map, or repeated field \"measurement_timestamp\" in protocol message object. | field: measurement_timestamp | value: NaT\n",
      "Exception: Assignment not allowed to message, map, or repeated field \"measurement_timestamp\" in protocol message object. | field: measurement_timestamp | value: NaT\n",
      "IOTNL\n",
      "IOTTEMP\n",
      "IOT1\n",
      "IOT2\n",
      "IOT3\n",
      "IOT4\n",
      "IOT6\n",
      "IOT7\n",
      "IOT8\n",
      "IOT9\n",
      "IOT10\n",
      "IOT11\n",
      "IOT12\n",
      "TAZAW\n"
     ]
    }
   ],
   "source": [
    "for df in dfs:\n",
    "    print(df)\n",
    "    packages[df][\"package_messages\"] = []\n",
    "    packages[df][\"package_messages\"] = fill_packages_from_df(packages[df][\"package_name\"], dfs_dict[df])\n",
    "    # for row in range(dfs[df].shape[0]):\n",
    "    #     packages[df][\"package_messages\"].append(fill_package_from_df(packages[df][\"package_name\"], dfs_dict[df], row))\n",
    "        "
   ]
  },
  {
   "cell_type": "code",
   "execution_count": 54,
   "metadata": {},
   "outputs": [],
   "source": [
    "for package in packages:\n",
    "    packages[package][\"package_messages_serialized\"] = []\n",
    "    for package_message in packages[package]['package_messages']:\n",
    "        packages[package][\"package_messages_serialized\"].append(proto_serialize(package_message))\n",
    "        "
   ]
  },
  {
   "cell_type": "code",
   "execution_count": null,
   "metadata": {},
   "outputs": [
    {
     "data": {
      "text/plain": [
       "{'ASCCDCV': {'package_name': 'ASCCDCV_package',\n",
       "  'protobuf_template': 'syntax = \"proto3\";\\nimport \"google/protobuf/timestamp.proto\";\\n\\npackage ASCCDCV_package;\\nmessage ASCCDCV_package_message {\\n    float a_no2 = 1;\\n    float a_ufp = 2;\\n    float a_bc = 3;\\n    float n_no2 = 4;\\n    float n_ufp = 5;\\n    float n_bc = 6;\\n    float v_no2 = 7;\\n    float v_ufp = 8;\\n    float v_bc = 9;\\n    float n_core_no2 = 10;\\n    float n_core_ufp = 11;\\n    float n_core_bc = 12;\\n}',\n",
       "  'proto_filename': 'ASCCDCV_package.proto'},\n",
       " 'ARGAZAL': {'package_name': 'ARGAZAL_package',\n",
       "  'protobuf_template': 'syntax = \"proto3\";\\nimport \"google/protobuf/timestamp.proto\";\\n\\npackage ARGAZAL_package;\\nmessage ARGAZAL_package_message {\\n    float z1ufp_nw = 1;\\n    float z1bc_nw = 2;\\n    float z1no2_nw = 3;\\n    float z1ufp_ew = 4;\\n    float z1bc_ew = 5;\\n    float z1no2_ew = 6;\\n    float z1ufp_sw = 7;\\n    float z1bc_sw = 8;\\n    float z1no2_sw = 9;\\n    float z2ufp_nw = 10;\\n    float z2bc_nw = 11;\\n    float z2no2_nw = 12;\\n    float z2ufp_ew = 13;\\n    float z2bc_ew = 14;\\n    float z2no2_ew = 15;\\n    float z2ufp_sw = 16;\\n    float z2bc_sw = 17;\\n    float z2no2_sw = 18;\\n    float z3ufp_nw = 19;\\n    float z3bc_nw = 20;\\n    float z3no2_nw = 21;\\n    float z3ufp_ew = 22;\\n    float z3bc_ew = 23;\\n    float z3no2_ew = 24;\\n    float z3ufp_sw = 25;\\n    float z3bc_sw = 26;\\n    float z3no2_sw = 27;\\n}',\n",
       "  'proto_filename': 'ARGAZAL_package.proto'},\n",
       " 'ARMAZAL': {'package_name': 'ARMAZAL_package',\n",
       "  'protobuf_template': 'syntax = \"proto3\";\\nimport \"google/protobuf/timestamp.proto\";\\n\\npackage ARMAZAL_package;\\nmessage ARMAZAL_package_message {\\n    int64 mo = 1;\\n    int64 dy = 2;\\n    int64 yr = 3;\\n    float z1ufp_nw = 4;\\n    float z1bc_nw = 5;\\n    float z1no2_nw = 6;\\n    float z1ufp_ew = 7;\\n    float z1bc_ew = 8;\\n    float z1no2_ew = 9;\\n    float z1ufp_sw = 10;\\n    float z1bc_sw = 11;\\n    float z1no2_sw = 12;\\n    float z2ufp_nw = 13;\\n    float z2bc_nw = 14;\\n    float z2no2_nw = 15;\\n    float z2ufp_ew = 16;\\n    float z2bc_ew = 17;\\n    float z2no2_ew = 18;\\n    float z2ufp_sw = 19;\\n    float z2bc_sw = 20;\\n    float z2no2_sw = 21;\\n    float z3ufp_nw = 22;\\n    float z3bc_nw = 23;\\n    float z3no2_nw = 24;\\n    float z3ufp_ew = 25;\\n    float z3bc_ew = 26;\\n    float z3no2_ew = 27;\\n    float z3ufp_sw = 28;\\n    float z3bc_sw = 29;\\n    float z3no2_sw = 30;\\n    float z4ufp_nw = 31;\\n    float z4bc_nw = 32;\\n    float z4no2_nw = 33;\\n    float z4ufp_ew = 34;\\n    float z4bc_ew = 35;\\n    float z4no2_ew = 36;\\n    float z4ufp_sw = 37;\\n    float z4bc_sw = 38;\\n    float z4no2_sw = 39;\\n}',\n",
       "  'proto_filename': 'ARMAZAL_package.proto'},\n",
       " 'BWQAS': {'package_name': 'BWQAS_package',\n",
       "  'protobuf_template': 'syntax = \"proto3\";\\nimport \"google/protobuf/timestamp.proto\";\\n\\npackage BWQAS_package;\\nmessage BWQAS_package_message {\\n    string beach_name = 1;\\n    google.protobuf.Timestamp measurement_timestamp = 2;\\n    float water_temperature = 3;\\n    float turbidity = 4;\\n    float transducer_depth = 5;\\n    float wave_height = 6;\\n    int64 wave_period = 7;\\n    float battery_life = 8;\\n    string measurement_timestamp_label = 9;\\n    string measurement_id = 10;\\n}',\n",
       "  'proto_filename': 'BWQAS_package.proto'},\n",
       " 'BWSAS': {'package_name': 'BWSAS_package',\n",
       "  'protobuf_template': 'syntax = \"proto3\";\\nimport \"google/protobuf/timestamp.proto\";\\n\\npackage BWSAS_package;\\nmessage BWSAS_package_message {\\n    string station_name = 1;\\n    google.protobuf.Timestamp measurement_timestamp = 2;\\n    float air_temperature = 3;\\n    float wet_bulb_temperature = 4;\\n    int64 humidity = 5;\\n    float rain_intensity = 6;\\n    float interval_rain = 7;\\n    float total_rain = 8;\\n    int64 precipitation_type = 9;\\n    int64 wind_direction = 10;\\n    float wind_speed = 11;\\n    float maximum_wind_speed = 12;\\n    float barometric_pressure = 13;\\n    int64 solar_radiation = 14;\\n    int64 heading = 15;\\n    float battery_life = 16;\\n    string measurement_timestamp_label = 17;\\n    string measurement_id = 18;\\n}',\n",
       "  'proto_filename': 'BWSAS_package.proto'},\n",
       " 'IOTNL': {'package_name': 'IOTNL_package',\n",
       "  'protobuf_template': 'syntax = \"proto3\";\\nimport \"google/protobuf/timestamp.proto\";\\n\\npackage IOTNL_package;\\nmessage IOTNL_package_message {\\n    int64 framenumber = 1;\\n    int64 frametime = 2;\\n    int64 framelen = 3;\\n    int64 ethsrc = 4;\\n    int64 ethdst = 5;\\n    int64 ipsrc = 6;\\n    int64 ipdst = 7;\\n    int64 ipproto = 8;\\n    float iplen = 9;\\n    float tcplen = 10;\\n    float tcpsrcport = 11;\\n    int64 tcpdstport = 12;\\n    float value = 13;\\n    int64 normality = 14;\\n}',\n",
       "  'proto_filename': 'IOTNL_package.proto'},\n",
       " 'IOTTEMP': {'package_name': 'IOTTEMP_package',\n",
       "  'protobuf_template': 'syntax = \"proto3\";\\nimport \"google/protobuf/timestamp.proto\";\\n\\npackage IOTTEMP_package;\\nmessage IOTTEMP_package_message {\\n    string id = 1;\\n    string room_idid = 2;\\n    google.protobuf.Timestamp noted_date = 3;\\n    int64 temp = 4;\\n    string outin = 5;\\n}',\n",
       "  'proto_filename': 'IOTTEMP_package.proto'},\n",
       " 'IOT1': {'package_name': 'IOT1_package',\n",
       "  'protobuf_template': 'syntax = \"proto3\";\\nimport \"google/protobuf/timestamp.proto\";\\n\\npackage IOT1_package;\\nmessage IOT1_package_message {\\n    int64 entry_id = 1;\\n    float temperature_c = 2;\\n    int64 turbidityntu = 3;\\n    float dissolved_oxygengml = 4;\\n    float ph = 5;\\n    float ammoniagml = 6;\\n    int64 nitrategml = 7;\\n    int64 population = 8;\\n    float fish_lengthcm = 9;\\n    float fish_weightg = 10;\\n}',\n",
       "  'proto_filename': 'IOT1_package.proto'},\n",
       " 'IOT2': {'package_name': 'IOT2_package',\n",
       "  'protobuf_template': 'syntax = \"proto3\";\\nimport \"google/protobuf/timestamp.proto\";\\n\\npackage IOT2_package;\\nmessage IOT2_package_message {\\n    string created_at = 1;\\n    int64 entry_id = 2;\\n    float temperature_c = 3;\\n    int64 turbidity_ntu = 4;\\n    float dissolved_oxygengml = 5;\\n    float ph = 6;\\n    float ammoniagml = 7;\\n    int64 nitrategml = 8;\\n    int64 population = 9;\\n    float fish_length_cm = 10;\\n    float fish_weight_g = 11;\\n}',\n",
       "  'proto_filename': 'IOT2_package.proto'},\n",
       " 'IOT3': {'package_name': 'IOT3_package',\n",
       "  'protobuf_template': 'syntax = \"proto3\";\\nimport \"google/protobuf/timestamp.proto\";\\n\\npackage IOT3_package;\\nmessage IOT3_package_message {\\n    int64 entry_id = 1;\\n    float temperaturec = 2;\\n    int64 turbidityntu = 3;\\n    float dissolved_oxygengml = 4;\\n    float ph = 5;\\n    float ammoniagml = 6;\\n    int64 nitrategml = 7;\\n    int64 population = 8;\\n    float fish_lengthcm = 9;\\n    float fish_weightg = 10;\\n}',\n",
       "  'proto_filename': 'IOT3_package.proto'},\n",
       " 'IOT4': {'package_name': 'IOT4_package',\n",
       "  'protobuf_template': 'syntax = \"proto3\";\\nimport \"google/protobuf/timestamp.proto\";\\n\\npackage IOT4_package;\\nmessage IOT4_package_message {\\n    string created_at = 1;\\n    int64 entry_id = 2;\\n    float temperaturec = 3;\\n    int64 turbidityntu = 4;\\n    float dissolved_oxygengml = 5;\\n    float ph = 6;\\n    float ammoniagml = 7;\\n    int64 nitrategml = 8;\\n    int64 population = 9;\\n    float fish_lengthcm = 10;\\n    float fish_weightg = 11;\\n}',\n",
       "  'proto_filename': 'IOT4_package.proto'},\n",
       " 'IOT6': {'package_name': 'IOT6_package',\n",
       "  'protobuf_template': 'syntax = \"proto3\";\\nimport \"google/protobuf/timestamp.proto\";\\n\\npackage IOT6_package;\\nmessage IOT6_package_message {\\n    string created_at = 1;\\n    int64 entry_id = 2;\\n    float temperaturec = 3;\\n    int64 turbidityntu = 4;\\n    float dissolved_oxygengml = 5;\\n    float ph = 6;\\n    float ammoniagml = 7;\\n    int64 nitrategml = 8;\\n    int64 population = 9;\\n    float fish_lengthcm = 10;\\n    float fish_weightg = 11;\\n}',\n",
       "  'proto_filename': 'IOT6_package.proto'},\n",
       " 'IOT7': {'package_name': 'IOT7_package',\n",
       "  'protobuf_template': 'syntax = \"proto3\";\\nimport \"google/protobuf/timestamp.proto\";\\n\\npackage IOT7_package;\\nmessage IOT7_package_message {\\n    string created_at = 1;\\n    string date = 2;\\n    int64 entry_id = 3;\\n    float temperaturec = 4;\\n    int64 turbidity_ntu = 5;\\n    float dissolved_oxygen_gml = 6;\\n    float ph = 7;\\n    float ammoniagml = 8;\\n    int64 nitrategml = 9;\\n    float fish_lengthcm = 10;\\n    float fish_weightg = 11;\\n}',\n",
       "  'proto_filename': 'IOT7_package.proto'},\n",
       " 'IOT8': {'package_name': 'IOT8_package',\n",
       "  'protobuf_template': 'syntax = \"proto3\";\\nimport \"google/protobuf/timestamp.proto\";\\n\\npackage IOT8_package;\\nmessage IOT8_package_message {\\n    string date = 1;\\n    int64 entry_id = 2;\\n    float temperature_c = 3;\\n    int64 turbidityntu = 4;\\n    float dissolved_oxygen_mgl = 5;\\n    float ph = 6;\\n    float ammonia_mgl = 7;\\n    int64 nitrate_mgl = 8;\\n    float total_length_cm = 9;\\n    float weight_g = 10;\\n}',\n",
       "  'proto_filename': 'IOT8_package.proto'},\n",
       " 'IOT9': {'package_name': 'IOT9_package',\n",
       "  'protobuf_template': 'syntax = \"proto3\";\\nimport \"google/protobuf/timestamp.proto\";\\n\\npackage IOT9_package;\\nmessage IOT9_package_message {\\n    string date = 1;\\n    int64 entry_id = 2;\\n    float temperaturec = 3;\\n    int64 turbidityntu = 4;\\n    float dissolved_oxygengml = 5;\\n    float ph = 6;\\n    float ammoniagml = 7;\\n    int64 nitrategml = 8;\\n    float fish_lengthcm = 9;\\n    float fish_weightg = 10;\\n}',\n",
       "  'proto_filename': 'IOT9_package.proto'},\n",
       " 'IOT10': {'package_name': 'IOT10_package',\n",
       "  'protobuf_template': 'syntax = \"proto3\";\\nimport \"google/protobuf/timestamp.proto\";\\n\\npackage IOT10_package;\\nmessage IOT10_package_message {\\n    string created_at = 1;\\n    int64 entry_id = 2;\\n    float temperature = 3;\\n    int64 turbidity = 4;\\n    float disolved_oxygen = 5;\\n    float ph = 6;\\n    float ammonia = 7;\\n    int64 nitrate = 8;\\n    int64 population = 9;\\n    float length = 10;\\n    float weight = 11;\\n}',\n",
       "  'proto_filename': 'IOT10_package.proto'},\n",
       " 'IOT11': {'package_name': 'IOT11_package',\n",
       "  'protobuf_template': 'syntax = \"proto3\";\\nimport \"google/protobuf/timestamp.proto\";\\n\\npackage IOT11_package;\\nmessage IOT11_package_message {\\n    string created_at = 1;\\n    int64 entry_id = 2;\\n    float temperature = 3;\\n    int64 turbidity = 4;\\n    float disolved_oxygen = 5;\\n    float ph = 6;\\n    float ammonia = 7;\\n    int64 nitrate = 8;\\n    int64 population = 9;\\n    float length = 10;\\n    float weight = 11;\\n}',\n",
       "  'proto_filename': 'IOT11_package.proto'},\n",
       " 'IOT12': {'package_name': 'IOT12_package',\n",
       "  'protobuf_template': 'syntax = \"proto3\";\\nimport \"google/protobuf/timestamp.proto\";\\n\\npackage IOT12_package;\\nmessage IOT12_package_message {\\n    string created_at = 1;\\n    int64 entry_id = 2;\\n    float temperature = 3;\\n    int64 turbidity = 4;\\n    float disolved_oxygen = 5;\\n    float ph = 6;\\n    float ammonia = 7;\\n    int64 nitrate = 8;\\n    int64 population = 9;\\n    float length = 10;\\n    float weight = 11;\\n}',\n",
       "  'proto_filename': 'IOT12_package.proto'},\n",
       " 'TAZAW': {'package_name': 'TAZAW_package',\n",
       "  'protobuf_template': 'syntax = \"proto3\";\\nimport \"google/protobuf/timestamp.proto\";\\n\\npackage TAZAW_package;\\nmessage TAZAW_package_message {\\n    int64 mo = 1;\\n    int64 dy = 2;\\n    int64 yr = 3;\\n    float z1ufp_nw = 4;\\n    float z1bc_nw = 5;\\n    float z1no2_nw = 6;\\n    float z1ufp_ew = 7;\\n    float z1bc_ew = 8;\\n    float z1no2_ew = 9;\\n    float z1ufp_sw = 10;\\n    float z1bc_sw = 11;\\n    float z1no2_sw = 12;\\n    float z2ufp_nw = 13;\\n    float z2bc_nw = 14;\\n    float z2no2_nw = 15;\\n    float z2ufp_ew = 16;\\n    float z2bc_ew = 17;\\n    float z2no2_ew = 18;\\n    float z2ufp_sw = 19;\\n    float z2bc_sw = 20;\\n    float z2no2_sw = 21;\\n    float z3ufp_nw = 22;\\n    float z3bc_nw = 23;\\n    float z3no2_nw = 24;\\n    float z3ufp_ew = 25;\\n    float z3bc_ew = 26;\\n    float z3no2_ew = 27;\\n    float z3ufp_sw = 28;\\n    float z3bc_sw = 29;\\n    float z3no2_sw = 30;\\n}',\n",
       "  'proto_filename': 'TAZAW_package.proto'}}"
      ]
     },
     "execution_count": 46,
     "metadata": {},
     "output_type": "execute_result"
    }
   ],
   "source": [
    "packages"
   ]
  },
  {
   "cell_type": "code",
   "execution_count": null,
   "metadata": {},
   "outputs": [
    {
     "data": {
      "text/plain": [
       "34923"
      ]
     },
     "execution_count": 44,
     "metadata": {},
     "output_type": "execute_result"
    }
   ],
   "source": [
    "dfs[\"BWQAS\"].shape[0]"
   ]
  },
  {
   "cell_type": "code",
   "execution_count": null,
   "metadata": {},
   "outputs": [],
   "source": []
  }
 ],
 "metadata": {
  "kernelspec": {
   "display_name": "Python 3",
   "language": "python",
   "name": "python3"
  },
  "language_info": {
   "codemirror_mode": {
    "name": "ipython",
    "version": 3
   },
   "file_extension": ".py",
   "mimetype": "text/x-python",
   "name": "python",
   "nbconvert_exporter": "python",
   "pygments_lexer": "ipython3",
   "version": "3.12.3"
  }
 },
 "nbformat": 4,
 "nbformat_minor": 2
}
