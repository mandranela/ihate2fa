{
 "cells": [
  {
   "cell_type": "markdown",
   "metadata": {},
   "source": [
    "# imports"
   ]
  },
  {
   "cell_type": "code",
   "execution_count": 3,
   "metadata": {},
   "outputs": [],
   "source": [
    "# imports\n",
    "\n",
    "from config import *\n",
    "from sys import getsizeof\n",
    "\n",
    "import os\n",
    "import sys\n",
    "import re\n",
    "import json\n",
    "import pickle\n",
    "import datetime\n",
    "import importlib\n",
    "import pandas as pd\n",
    "import dateutil.parser as dp"
   ]
  },
  {
   "cell_type": "markdown",
   "metadata": {},
   "source": [
    "# datasets"
   ]
  },
  {
   "cell_type": "code",
   "execution_count": 4,
   "metadata": {},
   "outputs": [],
   "source": [
    "# ! Functions to load datasets (uncomment to run)\n",
    "\n",
    "def load_datasets(dfs: dict[str: pd.DataFrame]) -> None:\n",
    "    for name, path in DATASETS_ABS_PATHS.items():\n",
    "        print(f\"{name} {path}\")\n",
    "        if path.endswith(\".xlsx\"):\n",
    "            dfs[name] = pd.read_excel(path)\n",
    "        elif path.endswith(\".csv\"):\n",
    "            dfs[name] = pd.read_csv(path, low_memory=False)\n",
    "\n",
    "\n",
    "def normilize_datasets_timestamps(dfs: dict[str: pd.DataFrame]) -> None:\n",
    "    dfs[\"BWQAS\"][\"measurement_timestamp\"] = pd.to_datetime(dfs[\"BWQAS\"][\"measurement_timestamp\"], format=\"%m/%d/%Y %I:%M:%S %p\")\n",
    "    dfs[\"BWSAS\"][\"measurement_timestamp\"] = pd.to_datetime(dfs[\"BWSAS\"][\"measurement_timestamp\"], format=\"%m/%d/%Y %I:%M:%S %p\")\n",
    "    dfs[\"IOTTEMP\"][\"noted_date\"] = pd.to_datetime(dfs[\"IOTTEMP\"][\"noted_date\"], format=\"%d-%m-%Y %H:%M\")\n",
    "    dfs[\"IOT1\"][\"created_at\"] = pd.to_datetime(dfs[\"IOT1\"][\"created_at\"], format=\"%Y-%m-%d %H:%M:%S %Z\").dt.tz_convert(None)\n",
    "    dfs[\"IOT3\"][\"created_at\"] = pd.to_datetime(dfs[\"IOT3\"][\"created_at\"], format=\"%Y-%m-%d %H:%M:%S %Z\").dt.tz_convert(None)\n",
    "    dfs[\"IOT8\"][\"created_at\"] = pd.to_datetime(dfs[\"IOT8\"][\"created_at\"], format=\"%Y-%m-%dT%H:%M:%S%z\").dt.tz_convert(None)\n",
    "    dfs[\"IOT9\"][\"created_at\"] = pd.to_datetime(dfs[\"IOT9\"][\"created_at\"], format=\"%Y-%m-%d %H:%M:%S %Z\").dt.tz_convert(None)\n",
    "    # dfs[\"IOT2\"][\"created_at\"] = pd.to_datetime(dfs[\"IOT2\"][\"created_at\"].map({'%Y-%m-%d': '%Y-%m-%d', '%d/%m/%Y': '%d/%m/%Y', '%b %d, %Y': '%b %d, %Y'}), format=\"%Y-%m-%d %H:%M:%S %Z\")\n",
    "    # dfs[\"IOT4\"][\"created_at\"] = pd.to_datetime(dfs[\"IOT4\"][\"created_at\"], format=\"%Y-%m-%d %H:%M:%S %Z\")\n",
    "    # dfs[\"IOT6\"][\"created_at\"] = pd.to_datetime(dfs[\"IOT6\"][\"created_at\"], format=\"%Y-%m-%d %H:%M:%S %Z\")\n",
    "    # dfs[\"IOT7\"][\"created_at\"] = pd.to_datetime(dfs[\"IOT7\"][\"created_at\"], format=\"%Y-%m-%dT%H:%M:%S%z\")\n",
    "    # dfs[\"IOT10\"][\"created_at\"] = pd.to_datetime(dfs[\"IOT10\"][\"created_at\"], format=\"%Y-%m-%d %H:%M:%S %Z\")\n",
    "    # dfs[\"IOT11\"][\"created_at\"] = pd.to_datetime(dfs[\"IOT11\"][\"created_at\"], format=\"%Y-%m-%d %H:%M:%S %Z\")\n",
    "    # dfs[\"IOT12\"][\"created_at\"] = pd.to_datetime(dfs[\"IOT12\"][\"created_at\"], format=\"%Y-%m-%d %H:%M:%S %Z\")\n",
    "\n",
    "\n",
    "def normilize_datasets_columns_names(dfs: dict[str: pd.DataFrame]) -> None:\n",
    "    for df_name in dfs:\n",
    "        dfs[df_name].columns = dfs[df_name].columns.str.strip().str.rstrip('-').str.lower()\n",
    "        dfs[df_name].columns = [re.sub(r'[^\\w\\s]', '', col.replace(' ', '_').replace('-', '_')) for col in dfs[df_name].columns]\n",
    "\n",
    "\n",
    "def normilize_datasets_dtypes(dfs: dict[str: pd.DataFrame]) -> None:\n",
    "    for df_name in dfs:\n",
    "        dfs[df_name] = dfs[df_name].convert_dtypes()\n",
    "\n",
    "\n",
    "def normilize_datasets(dfs: dict[str: pd.DataFrame]) -> None:\n",
    "    normilize_datasets_columns_names(dfs)\n",
    "    normilize_datasets_dtypes\n",
    "    normilize_datasets_timestamps(dfs)\n",
    "    \n",
    "\n",
    "# dfs = {}\n",
    "# load_datasets(dfs)\n",
    "# normilize_datasets(dfs)"
   ]
  },
  {
   "cell_type": "code",
   "execution_count": 5,
   "metadata": {},
   "outputs": [],
   "source": [
    "# ! Import pickled datasets (and save them if you want) \n",
    "\n",
    "# with open(\".\\\\static\\\\pickles\\\\dfs.pickle\", \"wb\") as f:\n",
    "#     pickle.dump(dfs, f)\n",
    "with open(\".\\\\static\\\\pickles\\\\dfs.pickle\", \"rb\") as f:\n",
    "    dfs: list[pd.DataFrame] = pickle.load(f)\n"
   ]
  },
  {
   "cell_type": "code",
   "execution_count": 6,
   "metadata": {},
   "outputs": [],
   "source": [
    "# Function to automatically convert datetime dtype in datasets (works poorly) \n",
    "\n",
    "def try_to_datetime(df: pd.DataFrame):\n",
    "    for col in df.columns:\n",
    "        if df[col].dtype == \"string[python]\" and any(char in df[col].iloc[0] for char in ['-', '/', ':']):\n",
    "            try:\n",
    "                df[col] = pd.to_datetime(df[col], format=\"mixed\")\n",
    "            except:\n",
    "                pass\n"
   ]
  },
  {
   "cell_type": "code",
   "execution_count": 7,
   "metadata": {},
   "outputs": [],
   "source": [
    "# Example of loading single dataset (outdated)\n",
    "\n",
    "# df = pd.read_csv(DATASETS_ABS_PATHS[\"BWSAS\"])\n",
    "# df.rename(columns=lambda x: x.replace(' ', '_'), inplace=True) # Replace spaces with underscores in column names\n",
    "# df.Measurement_Timestamp = pd.to_datetime(df.Measurement_Timestamp, format=\"%m/%d/%Y %I:%M:%S %p\")\n",
    "# df = df.convert_dtypes()\n",
    "# df_dict = df.to_dict(orient=\"records\")\n",
    "# df.dtypes"
   ]
  },
  {
   "cell_type": "markdown",
   "metadata": {},
   "source": [
    "# proto files"
   ]
  },
  {
   "cell_type": "markdown",
   "metadata": {},
   "source": [
    "## creating proto template"
   ]
  },
  {
   "cell_type": "code",
   "execution_count": 8,
   "metadata": {},
   "outputs": [],
   "source": [
    "# ! Function to create ptorobuf template\n",
    "\n",
    "def create_proto_template(package_name: str, df: pd.DataFrame):\n",
    "    d = []\n",
    "    timestamp_flag = False\n",
    "    \n",
    "    for name, dtype in df.dtypes.to_dict().items():\n",
    "        match dtype:\n",
    "            case \"string\":\n",
    "                d.append([\"string\", name])\n",
    "            case \"Float64\":\n",
    "                d.append([\"float\", name])\n",
    "            case \"Int64\":\n",
    "                d.append([\"int64\", name])\n",
    "            case \"datetime64[ns]\":\n",
    "                timestamp_flag = True\n",
    "                d.append([\"google.protobuf.Timestamp\", name])\n",
    "    \n",
    "    template = f'\\\n",
    "syntax = \"proto3\";\\n\\\n",
    "{'import \"google/protobuf/timestamp.proto\";\\n' if timestamp_flag else ''}\\\n",
    "\\npackage {package_name};\\n\\\n",
    "message {package_name}_message {{\\n\\\n",
    "'\n",
    "\n",
    "    template += \"\\n\".join(f\"    {e[0]} {e[1]} = {d.index(e) + 1};\" for e in d)\n",
    "    template += \"\\n}\"\n",
    "    return template"
   ]
  },
  {
   "cell_type": "code",
   "execution_count": 9,
   "metadata": {},
   "outputs": [],
   "source": [
    "# Function to create ptorobuf template (Does NOT work (yoinked from net))\n",
    "\n",
    "import pandas as pd\n",
    "from google.protobuf.descriptor_pb2 import FieldDescriptorProto\n",
    "from google.protobuf.descriptor_pb2 import FileDescriptorProto\n",
    "from google.protobuf.compiler.plugin_pb2 import CodeGeneratorRequest\n",
    "from google.protobuf.compiler.plugin_pb2 import CodeGeneratorResponse\n",
    "\n",
    "def create_protobuf_template(df):\n",
    "    # Create a FileDescriptorProto\n",
    "    file_descriptor_proto = FileDescriptorProto()\n",
    "\n",
    "    # Create a message type for the DataFrame\n",
    "    message_type = file_descriptor_proto.message_type.add()\n",
    "    message_type.name = \"DataFrame\"\n",
    "\n",
    "    # Iterate over the columns of the DataFrame\n",
    "    for column_name, column_type in df.dtypes.items():\n",
    "        # Create a field descriptor for each column\n",
    "        field_descriptor = message_type.field.add()\n",
    "        field_descriptor.name = column_name\n",
    "\n",
    "        # Map Pandas dtype to Protobuf field type\n",
    "        if column_type == \"int64\":\n",
    "            field_descriptor.type = FieldDescriptorProto.TYPE_INT64\n",
    "        elif column_type == \"float64\":\n",
    "            field_descriptor.type = FieldDescriptorProto.TYPE_DOUBLE\n",
    "        elif column_type == \"bool\":\n",
    "            field_descriptor.type = FieldDescriptorProto.TYPE_BOOL\n",
    "        elif column_type == \"object\":\n",
    "            field_descriptor.type = FieldDescriptorProto.TYPE_STRING\n",
    "        elif column_type == \"datetime64[ns]\":\n",
    "            field_descriptor.type = FieldDescriptorProto.TYPE_STRING\n",
    "        else:\n",
    "            field_descriptor.type = FieldDescriptorProto.TYPE_STRING\n",
    "\n",
    "    # Return the serialized FileDescriptorProto\n",
    "    return file_descriptor_proto.SerializeToString()"
   ]
  },
  {
   "cell_type": "code",
   "execution_count": 10,
   "metadata": {},
   "outputs": [],
   "source": [
    "# Example of creating proto template\n",
    "# package_name = \"m_beach\"\n",
    "\n",
    "# protobuf_template = create_proto_template(package_name, df)\n",
    "# print(protobuf_template)"
   ]
  },
  {
   "cell_type": "markdown",
   "metadata": {},
   "source": [
    "## compiling proto file"
   ]
  },
  {
   "cell_type": "code",
   "execution_count": 11,
   "metadata": {},
   "outputs": [],
   "source": [
    "# ! Function to compile proto file from template file (creates {proto_filename}_pb2.py file)\n",
    "def compile_proto(proto_filename):\n",
    "    proto_abs_path = os.path.join(PROTOS_FOLDER, proto_filename)\n",
    "    compile_proto_command = f\"{PROTOC_EXE} --python_out=. {proto_abs_path} \"\n",
    "    os.system(compile_proto_command)"
   ]
  },
  {
   "cell_type": "code",
   "execution_count": 12,
   "metadata": {},
   "outputs": [],
   "source": [
    "# Example of compiling proto file\n",
    "\n",
    "# compile_proto(proto_filename)"
   ]
  },
  {
   "cell_type": "markdown",
   "metadata": {},
   "source": [
    "## loading data into python descriptor of proto message "
   ]
  },
  {
   "cell_type": "code",
   "execution_count": 13,
   "metadata": {},
   "outputs": [],
   "source": [
    "# ! Util functions for timestamps calculaitons, conversion and validation\n",
    "def str2unix(dt: str) -> tuple[int, int]:\n",
    "    # Converts ISO8601 timstamp string into POSIX timestamp tuple (seconds, nanoseconds)\n",
    "    dt_unix = dp.parse(dt).timestamp()\n",
    "    \n",
    "    seconds = int(dt_unix)\n",
    "    nanos   = int(dt_unix % 1 * 1e9)\n",
    "\n",
    "    return (seconds, nanos)\n",
    "\n",
    "\n",
    "def pdTimestamp2unix(dt: pd.Timestamp) -> tuple[int, int]:\n",
    "    return str2unix(dt.isoformat())\n",
    "\n",
    "\n",
    "def datetime_valid(dt_str):\n",
    "    try:\n",
    "        datetime.datetime.fromisoformat(dt_str)\n",
    "    except:\n",
    "        return False\n",
    "    return True"
   ]
  },
  {
   "cell_type": "code",
   "execution_count": 14,
   "metadata": {},
   "outputs": [],
   "source": [
    "# ! json encoder and decoder for timestamp conversion handling\n",
    "class _JSONDecoder(json.JSONDecoder):\n",
    "    def __init__(self, *args, **kwargs):\n",
    "        json.JSONDecoder.__init__(\n",
    "            self, object_hook=self.object_hook, *args, **kwargs)\n",
    "\n",
    "    def object_hook(self, obj):\n",
    "        for key, value in obj.items():\n",
    "            if isinstance(value, str):\n",
    "                try:\n",
    "                    obj[key] = datetime.date.fromisoformat(value)\n",
    "                except ValueError:\n",
    "                    pass\n",
    "        return obj\n",
    "\n",
    "    \n",
    "class _JSONEncoder(json.JSONEncoder):\n",
    "    def default(self, obj):\n",
    "        if isinstance(obj, (datetime.date, datetime.datetime, pd.Timestamp)):\n",
    "            return obj.isoformat()\n",
    "        return super().default(obj)\n",
    "\n",
    "\n",
    "def json_serialize(message: dict) -> bytes:\n",
    "    # Serializes dict to json: dict -> str -> bytes \n",
    "    return json.dumps(message, cls=_JSONEncoder, separators=(',', ':')).encode(ENCODING)\n",
    "\n",
    "\n",
    "def json_deserialize(message: bytes) -> dict:\n",
    "    # Serializes json to dict: bytes -> str -> dict \n",
    "    return json.loads(message.decode(ENCODING), cls=_JSONDecoder)"
   ]
  },
  {
   "cell_type": "code",
   "execution_count": 15,
   "metadata": {},
   "outputs": [],
   "source": [
    "# ! Functions to fill package_message(s) with data from DataFrame(s)\n",
    "def fill_package_from_df(package_name: str, df_dict: list[dict], item: int):\n",
    "    # df_dict - df.to_dict(orient=\"records\"); item - number of record in df\n",
    "    package = importlib.import_module(PROTOS_FOLDER + \".\" + package_name + \"_pb2\")\n",
    "    package_message = getattr(package, package_name + \"_message\")()\n",
    "\n",
    "    for field, value in df_dict[item].items():\n",
    "        if value is None:\n",
    "            continue\n",
    "        if type(value) is pd.Timestamp:\n",
    "            seconds, nanos = pdTimestamp2unix(value)\n",
    "            setattr(getattr(package_message, field), \"seconds\", seconds)\n",
    "            setattr(getattr(package_message, field), \"nanos\", nanos)\n",
    "        else:\n",
    "            try:\n",
    "                setattr(package_message, field, value)\n",
    "            except Exception as e:\n",
    "                print(f\"Exception: {e} | field: {field} | value: {value}\")\n",
    "    \n",
    "    return package_message\n",
    "\n",
    "\n",
    "def fill_packages_from_df(package_name: str, df_dict: list[dict]) -> list:\n",
    "    package = importlib.import_module(PROTOS_FOLDER + \".\" + package_name + \"_pb2\")\n",
    "    package_messages = []\n",
    "    \n",
    "    for item in range(len(df_dict)):\n",
    "        package_message = None\n",
    "        package_message = getattr(package, package_name + \"_message\")()\n",
    "        for field, value in df_dict[item].items():\n",
    "            \n",
    "            if value is None:\n",
    "                continue\n",
    "            if type(value) is pd.Timestamp:\n",
    "                seconds, nanos = pdTimestamp2unix(value)\n",
    "                setattr(getattr(package_message, field), \"seconds\", seconds)\n",
    "                setattr(getattr(package_message, field), \"nanos\", nanos)\n",
    "            else:\n",
    "                try:\n",
    "                    setattr(package_message, field, value)\n",
    "                except Exception as e:\n",
    "                    print(f\"Exception: {e} | field: {field} | value: {value}\")\n",
    "        \n",
    "        package_messages.append(package_message)\n",
    "    \n",
    "    return package_messages\n",
    "    \n"
   ]
  },
  {
   "cell_type": "code",
   "execution_count": 16,
   "metadata": {},
   "outputs": [],
   "source": [
    "# ! Function to fill package_message with data from dict\n",
    "def fill_package_from_dict(package_name: str, message: dict):\n",
    "    # message - dict (json)\n",
    "    package = importlib.import_module(PROTOS_FOLDER + \".\" + package_name + \"_pb2\")\n",
    "    package_message = getattr(package, package_name + \"_message\")()\n",
    "\n",
    "    for field, value in message.items():\n",
    "        if value is None:\n",
    "            continue\n",
    "        if datetime_valid(value):\n",
    "            seconds, nanos = str2unix(value)\n",
    "            setattr(getattr(package_message, field), \"seconds\", seconds)\n",
    "            setattr(getattr(package_message, field), \"nanos\", nanos)\n",
    "        elif type(value) is pd.Timestamp:\n",
    "            seconds, nanos = pdTimestamp2unix(value)\n",
    "            setattr(getattr(package_message, field), \"seconds\", seconds)\n",
    "            setattr(getattr(package_message, field), \"nanos\", nanos)\n",
    "        else:\n",
    "            try:\n",
    "                setattr(package_message, field, value)\n",
    "            except Exception as e:\n",
    "                print(f\"Exception: {e} | field: {field} | value: {value}\")\n",
    "    \n",
    "    return package_message"
   ]
  },
  {
   "cell_type": "code",
   "execution_count": 17,
   "metadata": {},
   "outputs": [],
   "source": [
    "# Example of filling message with data from df and dicts with pd.Timestamp and timestamp in str \n",
    "# \n",
    "# NOTE: json format does not specify timestamp format, so i used most commonly used - ISO8601, \n",
    "# using custom JSONEncoder/JSONDecoder\n",
    "\n",
    "# item = 0\n",
    "# message = dfs_dict[\"BWQAS\"][item] # dict with pd.Timestamp as timestamp\n",
    "# message_json = json.dumps(message, cls=_JSONEncoder)\n",
    "\n",
    "# package_message = fill_package_from_df(package_name, df_dict, item)\n",
    "# package_message1 = fill_package_from_dict(package_name, message)\n",
    "# # message = json.loads(message_json) # dict with str ISO8601 as timestamp\n",
    "# package_message2 = fill_package_from_dict(package_name, json.loads(message_json))\n",
    "\n",
    "# print(f\"Same?: {package_message == package_message1 == package_message2}\")\n",
    "# print(# message, message_json)"
   ]
  },
  {
   "cell_type": "markdown",
   "metadata": {},
   "source": [
    "## serializing/deserializing + io"
   ]
  },
  {
   "cell_type": "code",
   "execution_count": 18,
   "metadata": {},
   "outputs": [],
   "source": [
    "# Util funcitons for bit <-> byte conversion and size finding\n",
    "\n",
    "def to_bits(byte_string: bytes) -> str:\n",
    "    # Convert byte string into bit string\n",
    "    return bin(int.from_bytes(byte_string, byteorder='big'))[2:]  # Remove '0b' prefix from binary string\n",
    "\n",
    "\n",
    "def to_bytes(bit_string: str) -> bytes:\n",
    "    # Convert bit string into byte string\n",
    "    return int(bit_string, 2).to_bytes((len(bit_string) + 7) // 8, byteorder='big')\n",
    "\n",
    "\n",
    "def bitsize(data: bytes | str) -> int:\n",
    "    if type(data) == bytes:\n",
    "        return len(to_bits(data))\n",
    "    elif type(data) == str and set(data) <= {'0', '1'}:\n",
    "        return len(data)\n",
    "    else:\n",
    "        return 0"
   ]
  },
  {
   "cell_type": "code",
   "execution_count": 19,
   "metadata": {},
   "outputs": [],
   "source": [
    "# ! Serialize/deserialize functions\n",
    "\n",
    "def proto_serialize(package_message):\n",
    "    return package_message.SerializeToString()\n",
    "\n",
    "\n",
    "def proto_serialize_l(package_messages: list) -> list:\n",
    "    return [package_message.SerializeToString() for package_message in package_messages]\n",
    "\n",
    "\n",
    "def proto_deserialize(package_message_serialized, package_name: str):\n",
    "    package = importlib.import_module(PROTOS_FOLDER + \".\" + package_name + \"_pb2\")\n",
    "    package_class = getattr(package, package_name + \"_message\")\n",
    "\n",
    "    package_message = package_class.FromString(package_message_serialized)\n",
    "    \n",
    "    return package_message"
   ]
  },
  {
   "cell_type": "code",
   "execution_count": 20,
   "metadata": {},
   "outputs": [],
   "source": [
    "# ! IO funcitons for package_message \n",
    "\n",
    "# writing package_message to the file\n",
    "def write_package(package_message, package_bin_filename):\n",
    "    with open(package_bin_filename, \"wb\") as f:\n",
    "        package_message_serialized = proto_serialize(package_message)\n",
    "        f.write(package_message_serialized)\n",
    "    \n",
    "    return package_message_serialized\n",
    "    \n",
    "\n",
    "\n",
    "# reading package_message from the file\n",
    "def read_package(package_bin_filename, package_name):\n",
    "    with open(package_bin_filename, \"rb\") as f:\n",
    "        package_message_serialized = f.read()\n",
    "        \n",
    "        package_message = proto_deserialize(package_message_serialized, package_name)\n",
    "\n",
    "    return package_message"
   ]
  },
  {
   "cell_type": "code",
   "execution_count": 21,
   "metadata": {},
   "outputs": [],
   "source": [
    "# Example usage of serialization, dumping json, bit/byte conversion + size finding\n",
    "\n",
    "# package_bin_filename = package_name + \".bin\"\n",
    "\n",
    "# package_message_serialized   = write_package(package_message, package_bin_filename)\n",
    "# package_message_deserialized = read_package(package_bin_filename, package_name)\n",
    "\n",
    "# package_json_filename = package_name + \".json\"\n",
    "# with open(package_name + \".json\", \"w\") as f:\n",
    "#     json.dump(message, f, cls=_JSONEncoder)\n",
    "# with open(package_name + \"1.json\", \"w\") as f:\n",
    "#     f.write(message_json)\n",
    "\n",
    "# to_bits(package_message_serialized), bitsize(package_message_serialized), to_bytes(to_bits(package_message_serialized)) == package_message_serialized\n"
   ]
  },
  {
   "cell_type": "code",
   "execution_count": 22,
   "metadata": {},
   "outputs": [],
   "source": [
    "# Comparison of sizes\n",
    "\n",
    "# print(f\"message size (dict):                {getsizeof(message)}\")\n",
    "# print(f\"message_json size (str of json):    {getsizeof(message_json)}\")\n",
    "# print()\n",
    "# print(f\"bin file size:                      {os.path.getsize(package_bin_filename)}\")\n",
    "# print(f\"json file size:                     {os.path.getsize(package_json_filename)}\")\n",
    "# print()\n",
    "# print(f\"package_message size:               {getsizeof(package_message)}\")\n",
    "# print(f\"package_message_serialized bits:    {bitsize(package_message_serialized)}\")\n",
    "# print()\n",
    "# print(f\"ratio of serialized/json files:     {os.path.getsize(package_json_filename) / os.path.getsize(package_bin_filename)}\")\n",
    "# print(f\"package_message == package_message_deserialized: {package_message == package_message_deserialized}\")"
   ]
  },
  {
   "cell_type": "markdown",
   "metadata": {},
   "source": [
    "### etc"
   ]
  },
  {
   "cell_type": "code",
   "execution_count": 23,
   "metadata": {},
   "outputs": [],
   "source": [
    "# NOTE: package_message have a lot of metadata in their DESCRIPTOR (might be useful)\n",
    "# print([field.name for field in package_message.DESCRIPTOR.fields])"
   ]
  },
  {
   "cell_type": "markdown",
   "metadata": {},
   "source": [
    "# compression"
   ]
  },
  {
   "cell_type": "markdown",
   "metadata": {},
   "source": [
    "## libraries algorithms comparison"
   ]
  },
  {
   "cell_type": "code",
   "execution_count": 24,
   "metadata": {},
   "outputs": [],
   "source": [
    "# ! Imports of compression libraries \n",
    "\n",
    "from collections import Counter\n",
    "\n",
    "import zlib, gzip, bz2, lzma, lz4.frame, zstd, brotli"
   ]
  },
  {
   "cell_type": "code",
   "execution_count": 25,
   "metadata": {},
   "outputs": [],
   "source": [
    "# Comparison of compression algorithms (on message serialized with protobuf)\n",
    "\n",
    "# pb_msg = package_message_serialized\n",
    "\n",
    "# pb_ratio_zlib     = bitsize(pb_msg) / bitsize(zlib.compress(pb_msg))\n",
    "# pb_ratio_gzip     = bitsize(pb_msg) / bitsize(gzip.compress(pb_msg))\n",
    "# pb_ratio_bz2      = bitsize(pb_msg) / bitsize(bz2.compress(pb_msg))\n",
    "# pb_ratio_lzma     = bitsize(pb_msg) / bitsize(lzma.compress(pb_msg))\n",
    "# pb_ratio_lz4      = bitsize(pb_msg) / bitsize(lz4.frame.compress(pb_msg))\n",
    "# pb_ratio_zstd     = bitsize(pb_msg) / bitsize(zstd.compress(pb_msg, 1))\n",
    "# pb_ratio_brotli   = bitsize(pb_msg) / bitsize(brotli.compress(pb_msg))\n",
    "\n",
    "\n",
    "\n",
    "# print(f'pb_ratio_zlib:        {pb_ratio_zlib}\\\n",
    "#       \\npb_ratio_gzip:        {pb_ratio_gzip}\\\n",
    "#       \\npb_ratio_bz2:         {pb_ratio_bz2}\\\n",
    "#       \\npb_ratio_lzma:        {pb_ratio_lzma}\\\n",
    "#       \\npb_ration_lz4:        {pb_ratio_lz4}\\\n",
    "#       \\npb_ration_zstd(1):    {pb_ratio_zstd}\\\n",
    "#       \\npb_ration_brotli(11): {pb_ratio_brotli}\\\n",
    "# '\n",
    "# )"
   ]
  },
  {
   "cell_type": "code",
   "execution_count": 26,
   "metadata": {},
   "outputs": [],
   "source": [
    "# Comparison of compression algorithms (on message serialized with json)\n",
    "\n",
    "# j_msg = bytes(message_json, \"utf-8\")\n",
    "\n",
    "# j_ratio_zlib      = bitsize(j_msg)  / bitsize(zlib.compress(j_msg))\n",
    "# j_ratio_gzip      = bitsize(j_msg)  / bitsize(gzip.compress(j_msg))\n",
    "# j_ratio_bz2       = bitsize(j_msg)  / bitsize(bz2.compress(j_msg)) \n",
    "# j_ratio_lzma      = bitsize(j_msg)  / bitsize(lzma.compress(j_msg))\n",
    "# j_ratio_lz4       = bitsize(j_msg)  / bitsize(lz4.frame.compress(j_msg))\n",
    "# j_ratio_zstd      = bitsize(j_msg)  / bitsize(zstd.compress(j_msg, 1))\n",
    "# j_ratio_brotli    = bitsize(j_msg)  / bitsize(brotli.compress(j_msg))\n",
    "\n",
    "# print(f'j_ratio_zlib:         {j_ratio_zlib}\\\n",
    "#       \\nj_ratio_gzip:         {j_ratio_gzip}\\\n",
    "#       \\nj_ratio_bz2:          {j_ratio_bz2}\\\n",
    "#       \\nj_ratio_lzma:         {j_ratio_lzma}\\\n",
    "#       \\nj_ration_lz4:         {j_ratio_lz4}\\\n",
    "#       \\nj_ration_zstd(1):     {j_ratio_zstd}\\\n",
    "#       \\nj_ration_brotli(11):  {j_ratio_brotli}\\\n",
    "# '\n",
    "# )"
   ]
  },
  {
   "cell_type": "markdown",
   "metadata": {},
   "source": [
    "## Huffman"
   ]
  },
  {
   "cell_type": "code",
   "execution_count": 27,
   "metadata": {},
   "outputs": [],
   "source": [
    "# Huffman encoding algorithm\n",
    "\n",
    "import heapq\n",
    "from collections import defaultdict\n",
    "\n",
    "class Node:\n",
    "    def __init__(self, char=None, freq=0, left=None, right=None):\n",
    "        self.char = char\n",
    "        self.freq = freq\n",
    "        self.left = left\n",
    "        self.right = right\n",
    "\n",
    "    def __lt__(self, other):\n",
    "        if self.freq == other.freq:\n",
    "            return self.char < other.char if self.char and other.char else False\n",
    "        return self.freq < other.freq\n",
    "\n",
    "    def __eq__(self, other):\n",
    "        return self.freq == other.freq and self.char == other.char\n",
    "\n",
    "def build_huffman_tree(freq_dict):\n",
    "    priority_queue = [Node(char, freq) for char, freq in freq_dict.items()]\n",
    "    heapq.heapify(priority_queue)\n",
    "\n",
    "    while len(priority_queue) > 1:\n",
    "        left = heapq.heappop(priority_queue)\n",
    "        right = heapq.heappop(priority_queue)\n",
    "        new_node = Node(freq=left.freq + right.freq, left=left, right=right)\n",
    "        heapq.heappush(priority_queue, new_node)\n",
    "\n",
    "    return priority_queue[0]\n",
    "\n",
    "\n",
    "def build_frequency_dict(data):\n",
    "    freq_dict = defaultdict(int)\n",
    "    for char in data:\n",
    "        freq_dict[char] += 1\n",
    "    return freq_dict\n",
    "\n",
    "def build_codewords(node, current_code=\"\", code_dict=None):\n",
    "    if code_dict is None:\n",
    "        code_dict = {}\n",
    "\n",
    "    if node.char is not None:\n",
    "        code_dict[node.char] = current_code\n",
    "        return code_dict\n",
    "\n",
    "    code_dict = build_codewords(node.left, current_code + \"0\", code_dict)\n",
    "    code_dict = build_codewords(node.right, current_code + \"1\", code_dict)\n",
    "\n",
    "    return code_dict\n",
    "\n",
    "def huffman_encode(data):\n",
    "    freq_dict = build_frequency_dict(data)\n",
    "    huffman_tree = build_huffman_tree(freq_dict)\n",
    "    codewords = build_codewords(huffman_tree)\n",
    "\n",
    "    encoded_data = \"\".join(codewords[char] for char in data)\n",
    "    return encoded_data, huffman_tree\n",
    "\n",
    "def huffman_decode(encoded_data, huffman_tree):\n",
    "    decoded_data = bytearray()\n",
    "    current_node = huffman_tree\n",
    "\n",
    "    for bit in encoded_data:\n",
    "        if bit == \"0\":\n",
    "            current_node = current_node.left\n",
    "        else:\n",
    "            current_node = current_node.right\n",
    "\n",
    "        if current_node.char is not None:\n",
    "            decoded_data.append(ord(current_node.char))\n",
    "            current_node = huffman_tree\n",
    "\n",
    "    return bytes(decoded_data)\n",
    "\n",
    "\n",
    "def serialize_tree(node):\n",
    "    if node.char is not None:\n",
    "        return '1' + bin(node.char)[2:].zfill(8)\n",
    "    else:\n",
    "        return '0' + serialize_tree(node.left) + serialize_tree(node.right)\n",
    "\n",
    "\n",
    "def deserialize_tree(data):\n",
    "    def helper(index):\n",
    "        if data[index] == '1':\n",
    "            char = chr(int(data[index + 1:index + 9], 2))\n",
    "            return Node(char=char), index + 9\n",
    "        else:\n",
    "            left, index = helper(index + 1)\n",
    "            right, index = helper(index)\n",
    "            return Node(left=left, right=right), index\n",
    "\n",
    "    root, _ = helper(0)\n",
    "    return root\n"
   ]
  },
  {
   "cell_type": "code",
   "execution_count": 28,
   "metadata": {},
   "outputs": [],
   "source": [
    "# example of huffman usage\n",
    "\n",
    "# encoded_data, huffman_tree = huffman_encode(package_message_serialized)\n",
    "\n",
    "# # Serialize the Huffman tree\n",
    "# serialized_tree = serialize_tree(huffman_tree)\n",
    "\n",
    "# # Deserialize the Huffman tree\n",
    "# deserialized_tree = deserialize_tree(serialized_tree)\n",
    "\n",
    "# # The rest of the code remains the same...\n",
    "# # encoded_data = \"\".join(build_codewords(deserialized_tree)[char] for char in package_message_serialized)\n",
    "# decoded_data = huffman_decode(encoded_data, deserialized_tree)\n",
    "\n",
    "# print(f\"Original data:      {package_message_serialized}\")\n",
    "# print(f\"Decoded data:       {decoded_data}\")\n",
    "# print(f\"Decoded data == Original data: {package_message_serialized == decoded_data}\")\n",
    "# print(f\"Encoded data:       {encoded_data}\")\n",
    "# print(f\"Serialized tree:    {serialized_tree}\")\n",
    "# print()\n",
    "# print(f\"Encoded data bit length:    {bitsize(encoded_data)}\")\n",
    "# print(f\"Serialized tree bit length: {bitsize(serialized_tree)}\")\n",
    "# print(f\"Compression ratio:          {(bitsize(encoded_data) + bitsize(serialized_tree)) / bitsize(package_message_serialized)}\")"
   ]
  },
  {
   "cell_type": "markdown",
   "metadata": {},
   "source": [
    "## rANS PyComP"
   ]
  },
  {
   "cell_type": "code",
   "execution_count": 29,
   "metadata": {},
   "outputs": [],
   "source": [
    "# from collections import Counter\n",
    "# counter = Counter(pb_msg)\n",
    "\n",
    "# pb_msg_chr = ''.join([chr(i) for i in counter.keys()])"
   ]
  },
  {
   "cell_type": "code",
   "execution_count": 30,
   "metadata": {},
   "outputs": [],
   "source": [
    "# from libs.PyComP import ANS\n",
    "# msg_counter = Counter(pb_msg_chr)\n",
    "# ans = ANS.rANS(list(msg_counter.keys()), list(msg_counter.values()))\n",
    "# msg_enc, final_state = ans.encode([chr(i) for i in pb_msg], 0)\n",
    "# msg_dec = ''.join(ans.decode(msg_enc, final_state))\n"
   ]
  },
  {
   "cell_type": "code",
   "execution_count": 31,
   "metadata": {},
   "outputs": [],
   "source": [
    "# pb_msg_chr, pb_msg_chr, msg_enc[2:], len(msg_enc[2:])\n"
   ]
  },
  {
   "cell_type": "markdown",
   "metadata": {},
   "source": [
    "# ! modeling"
   ]
  },
  {
   "cell_type": "code",
   "execution_count": 48,
   "metadata": {},
   "outputs": [],
   "source": [
    "# packages dict for all info in one place\n",
    "\n",
    "# \"NOTE: empty pd.Timestamp are pd.NaT, \n",
    "# that upon trying to fill into proto message \n",
    "# cannot be handled and dropped with\n",
    "# warning which is ok, dont worry\n",
    "\n",
    "def get_packages(dfs: list[pd.DataFrame]) -> dict:\n",
    "    \n",
    "    print(f\"Creating packages object:\")\n",
    "    packages = {df: {\"package_name\": df+\"_package\"} for df in dfs}\n",
    "\n",
    "    # Creating proto templates\n",
    "    print(f\" - creating protobuf templates\") \n",
    "    for df in dfs:\n",
    "        packages[df][\"protobuf_template\"] = create_proto_template(packages[df][\"package_name\"], dfs[df])\n",
    "\n",
    "    # Compiling proto templates\n",
    "    print(f\" - compiling protobuf templates\") \n",
    "    for df in dfs:\n",
    "        packages[df][\"proto_filename\"] = packages[df][\"package_name\"] + \".proto\"\n",
    "        with open(os.path.join(PROTOS_FOLDER_ABS_PATH, packages[df][\"proto_filename\"]), \"w\") as f:\n",
    "            f.write(packages[df][\"protobuf_template\"])\n",
    "        compile_proto(packages[df][\"proto_filename\"])\n",
    "\n",
    "\n",
    "    # Converting datasets from pd.DataFrame to dict for easier messages filling (~40 secs)\n",
    "    print(f\" - copying datasets to dict in packages\") \n",
    "    for df in dfs:\n",
    "        packages[df][\"messages\"] = dfs[df].to_dict(orient=\"records\")\n",
    "    \n",
    "    # Serializing messages with protobuf (filling and serializing messages) (might take a while (~2 min))\n",
    "    print(f\" - serializing messages with protobuf (might take  while)\") \n",
    "    for package in packages:\n",
    "        packages[package][\"package_messages_proto\"] = proto_serialize_l(fill_packages_from_df(packages[package][\"package_name\"], packages[package][\"messages\"]))\n",
    "    \n",
    "    # Serializing messages with json    \n",
    "    print(f\" - serializing messages with json\") \n",
    "    for package in packages:\n",
    "        packages[package][\"package_messages_json\"] = [json_serialize(i) for i in packages[package][\"messages\"]]\n",
    "    \n",
    "    print(f\"All done!\") \n",
    "    return packages"
   ]
  },
  {
   "cell_type": "code",
   "execution_count": 119,
   "metadata": {},
   "outputs": [],
   "source": [
    "# packages = get_packages(dfs)\n",
    "\n",
    "# with open(\"static\\\\pickles\\\\packages.pickle\", 'wb') as f:\n",
    "#     pickle.dump(packages, f)\n",
    "\n",
    "with open(\"static\\\\pickles\\\\packages.pickle\", 'rb') as f:\n",
    "    packages = pickle.load(f)"
   ]
  },
  {
   "cell_type": "code",
   "execution_count": 49,
   "metadata": {},
   "outputs": [
    {
     "name": "stdout",
     "output_type": "stream",
     "text": [
      "message:         272   10    0\n",
      "proto_message:   130   97  772 b'\\n\\x0eMontrose Beach\\x12\\x06\\x08\\xd0\\xcd\\x80\\x91\\x05\\x1dff\\xa2A%=\\n\\x97?-\\x93\\x18d?5\\n\\xd7\\xa3=8\\x03Eff\\x16AJ\\x118/30/2013 8:00 AMR\\x19MontroseBeach201308300800'\n",
      "message_json:    334  293 2343 {\"beach_name\":\"Montrose Beach\",\"measurement_timestamp\":\"2013-08-30T08:00:00\",\"water_temperature\":20.3,\"turbidity\":1.18,\"transducer_depth\":0.891,\"wave_height\":0.08,\"wave_period\":3,\"battery_life\":9.4,\"measurement_timestamp_label\":\"8/30/2013 8:00 AM\",\"measurement_id\":\"MontroseBeach201308300800\"}\n",
      "json file size:  293\n"
     ]
    }
   ],
   "source": [
    "item = 0\n",
    "message = packages[\"BWQAS\"][\"messages\"][item] # dict with pd.Timestamp as timestamp\n",
    "message_json = json.dumps(message, cls=_JSONEncoder,separators=(',', ':'))\n",
    "proto_message = packages[\"BWQAS\"][\"package_messages_proto\"][0]\n",
    "with open('testWB.json', 'w') as f:\n",
    "    json.dump(message, f, cls = _JSONEncoder, separators=(',', ':'))\n",
    "\n",
    "print(f\"message:        {getsizeof(message):4} {len(message):4} {bitsize(message):4}\")\n",
    "print(f\"proto_message:  {getsizeof(proto_message):4} {len(proto_message):4} {bitsize(proto_message):4} {proto_message}\")\n",
    "print(f\"message_json:   {getsizeof(message_json):4} {len(message_json):4} {bitsize(message_json.encode(ENCODING)):4} {message_json}\")\n",
    "print(f\"json file size: {os.path.getsize('testWB.json'):4}\")"
   ]
  },
  {
   "cell_type": "code",
   "execution_count": 80,
   "metadata": {},
   "outputs": [],
   "source": [
    "import time"
   ]
  },
  {
   "cell_type": "code",
   "execution_count": 97,
   "metadata": {},
   "outputs": [],
   "source": [
    "# Mass compression functions\n",
    "COMPRESSORS = {\n",
    "    \"zlib\": zlib.compress,\n",
    "    \"gzip\": gzip.compress,\n",
    "    \"bz2\": bz2.compress,\n",
    "    # \"lzma\": lzma.compress,\n",
    "    \"lz4\": lz4.frame.compress,\n",
    "    \"zstd\": zstd.compress,\n",
    "    # \"brotli\": brotli.compress,\n",
    "}\n",
    "\n",
    "DECOMPRESSORS = {\n",
    "    \"zlib\": zlib.decompress,\n",
    "    \"gzip\": gzip.decompress,\n",
    "    \"bz2\": bz2.decompress,\n",
    "    # \"lzma\": lzma.decompress,\n",
    "    \"lz4\": lz4.frame.decompress,\n",
    "    \"zstd\": zstd.decompress,\n",
    "    # \"brotli\": brotli.decompress,\n",
    "}\n",
    "\n",
    "\n",
    "def compress_messages(messages: list) -> list:\n",
    "    result = {}\n",
    "    for compressor in COMPRESSORS:\n",
    "        temp = []\n",
    "        print(f\"  {compressor}\", end=\"\")\n",
    "        st = time.time()\n",
    "        for message in messages:\n",
    "            temp.append(COMPRESSORS[compressor](message))\n",
    "        print(f\" {time.time() - st:.3f}\")\n",
    "        result[compressor] = temp\n",
    "        \n",
    "    return result\n",
    "    # return {compressor: [COMPRESSORS[compressor](message) for message in messages] for compressor in COMPRESSORS}     \n",
    "\n",
    "def decompress_messages(messages: list) -> list:\n",
    "    return {decompressor: [DECOMPRESSORS[decompressor](message) for message in messages] for decompressor in DECOMPRESSORS}     \n",
    "\n",
    "\n",
    "def compress_packages(packages: dict) -> None:\n",
    "    print(f\"Compressing messages:\")\n",
    "    for package in packages:\n",
    "        print(f\"{package}\")\n",
    "        print(f\" json: \")\n",
    "        packages[package][\"package_messages_json_compressed\"] = compress_messages(packages[package][\"package_messages_json\"])\n",
    "        print(f\" json done!\\n protobuf: \")\n",
    "        packages[package][\"package_messages_proto_compressed\"] = compress_messages(packages[package][\"package_messages_proto\"])\n",
    "        print(f\" protobuf done!\")"
   ]
  },
  {
   "cell_type": "code",
   "execution_count": 91,
   "metadata": {},
   "outputs": [
    {
     "name": "stdout",
     "output_type": "stream",
     "text": [
      "125.21\n"
     ]
    }
   ],
   "source": [
    "print(f\"{125:.2f}\")"
   ]
  },
  {
   "cell_type": "code",
   "execution_count": 98,
   "metadata": {},
   "outputs": [
    {
     "name": "stdout",
     "output_type": "stream",
     "text": [
      "Compressing messages:\n",
      "ASCCDCV\n",
      " json: \n",
      "  zlib 5.426\n",
      "  gzip 5.579\n",
      "  bz2 23.072\n",
      "  lz4 0.482\n",
      "  zstd 2.402\n",
      " json done!\n",
      " protobuf: \n",
      "  zlib 3.359\n",
      "  gzip 3.426\n",
      "  bz2 16.408\n",
      "  lz4 0.357\n",
      "  zstd 0.769\n",
      " protobuf done!\n",
      "ARGAZAL\n",
      " json: \n",
      "  zlib 1.542\n",
      "  gzip 1.457\n",
      "  bz2 6.131\n",
      "  lz4 0.158\n",
      "  zstd 0.702\n",
      " json done!\n",
      " protobuf: \n",
      "  zlib 0.745\n",
      "  gzip 0.827\n",
      "  bz2 3.803\n",
      "  lz4 0.061\n",
      "  zstd 0.277\n",
      " protobuf done!\n",
      "ARMAZAL\n",
      " json: \n",
      "  zlib 0.785\n",
      "  gzip 0.719\n",
      "  bz2 3.442\n",
      "  lz4 0.075\n",
      "  zstd 0.306\n",
      " json done!\n",
      " protobuf: \n",
      "  zlib 0.381\n",
      "  gzip 0.395\n",
      "  bz2 1.874\n",
      "  lz4 0.031\n",
      "  zstd 0.148\n",
      " protobuf done!\n",
      "BWQAS\n",
      " json: \n",
      "  zlib 0.868\n",
      "  gzip 0.903\n",
      "  bz2 3.903\n",
      "  lz4 0.055\n",
      "  zstd 0.342\n",
      " json done!\n",
      " protobuf: \n",
      "  zlib 0.633\n",
      "  gzip 0.624\n",
      "  bz2 2.543\n",
      "  lz4 0.048\n",
      "  zstd 0.334\n",
      " protobuf done!\n",
      "BWSAS\n",
      " json: \n",
      "  zlib 1.942\n",
      "  gzip 1.943\n",
      "  bz2 8.609\n",
      "  lz4 0.156\n",
      "  zstd 0.709\n",
      " json done!\n",
      " protobuf: \n",
      "  zlib 1.226\n",
      "  gzip 1.299\n",
      "  bz2 5.226\n",
      "  lz4 0.075\n",
      "  zstd 0.575\n",
      " protobuf done!\n",
      "IOTNL\n",
      " json: \n",
      "  zlib 10.738\n",
      "  gzip 11.230\n",
      "  bz2 46.428\n",
      "  lz4 1.000\n",
      "  zstd 5.061\n",
      " json done!\n",
      " protobuf: \n",
      "  zlib 7.616\n",
      "  gzip 7.229\n",
      "  bz2 33.512\n",
      "  lz4 0.610\n",
      "  zstd 2.646\n",
      " protobuf done!\n",
      "IOTTEMP\n",
      " json: \n",
      "  zlib 1.893\n",
      "  gzip 1.996\n",
      "  bz2 7.610\n",
      "  lz4 0.145\n",
      "  zstd 0.783\n",
      " json done!\n",
      " protobuf: \n",
      "  zlib 1.387\n",
      "  gzip 1.609\n",
      "  bz2 6.869\n",
      "  lz4 0.140\n",
      "  zstd 0.440\n",
      " protobuf done!\n",
      "IOT1\n",
      " json: \n",
      "  zlib 1.775\n",
      "  gzip 1.912\n",
      "  bz2 8.118\n",
      "  lz4 0.157\n",
      "  zstd 0.866\n",
      " json done!\n",
      " protobuf: \n",
      "  zlib 1.023\n",
      "  gzip 1.245\n",
      "  bz2 5.980\n",
      "  lz4 0.144\n",
      "  zstd 0.240\n",
      " protobuf done!\n",
      "IOT2\n",
      " json: \n",
      "  zlib 4.279\n",
      "  gzip 4.550\n",
      "  bz2 18.493\n",
      "  lz4 0.439\n",
      "  zstd 2.099\n",
      " json done!\n",
      " protobuf: \n",
      "  zlib 2.741\n",
      "  gzip 2.915\n",
      "  bz2 11.886\n",
      "  lz4 0.252\n",
      "  zstd 1.214\n",
      " protobuf done!\n",
      "IOT3\n",
      " json: \n",
      "  zlib 3.732\n",
      "  gzip 4.173\n",
      "  bz2 17.577\n",
      "  lz4 0.329\n",
      "  zstd 1.946\n",
      " json done!\n",
      " protobuf: \n",
      "  zlib 2.238\n",
      "  gzip 2.624\n",
      "  bz2 12.388\n",
      "  lz4 0.270\n",
      "  zstd 0.492\n",
      " protobuf done!\n",
      "IOT4\n",
      " json: \n",
      "  zlib 2.154\n",
      "  gzip 2.311\n",
      "  bz2 9.599\n",
      "  lz4 0.155\n",
      "  zstd 0.829\n",
      " json done!\n",
      " protobuf: \n",
      "  zlib 1.380\n",
      "  gzip 1.452\n",
      "  bz2 6.539\n",
      "  lz4 0.147\n",
      "  zstd 0.438\n",
      " protobuf done!\n",
      "IOT6\n",
      " json: \n",
      "  zlib 2.170\n",
      "  gzip 2.137\n",
      "  bz2 9.500\n",
      "  lz4 0.171\n",
      "  zstd 0.859\n",
      " json done!\n",
      " protobuf: \n",
      "  zlib 1.391\n",
      "  gzip 1.424\n",
      "  bz2 6.703\n",
      "  lz4 0.153\n",
      "  zstd 0.476\n",
      " protobuf done!\n",
      "IOT7\n",
      " json: \n",
      "  zlib 7.116\n",
      "  gzip 7.173\n",
      "  bz2 30.495\n",
      "  lz4 0.790\n",
      "  zstd 3.001\n",
      " json done!\n",
      " protobuf: \n",
      "  zlib 4.467\n",
      "  gzip 5.084\n",
      "  bz2 19.546\n",
      "  lz4 0.392\n",
      "  zstd 2.304\n",
      " protobuf done!\n",
      "IOT8\n",
      " json: \n",
      "  zlib 1.445\n",
      "  gzip 1.426\n",
      "  bz2 7.131\n",
      "  lz4 0.142\n",
      "  zstd 0.750\n",
      " json done!\n",
      " protobuf: \n",
      "  zlib 0.986\n",
      "  gzip 1.099\n",
      "  bz2 4.416\n",
      "  lz4 0.079\n",
      "  zstd 0.215\n",
      " protobuf done!\n",
      "IOT9\n",
      " json: \n",
      "  zlib 3.081\n",
      "  gzip 3.208\n",
      "  bz2 14.090\n",
      "  lz4 0.255\n",
      "  zstd 1.324\n",
      " json done!\n",
      " protobuf: \n",
      "  zlib 2.230\n",
      "  gzip 2.125\n",
      "  bz2 9.687\n",
      "  lz4 0.185\n",
      "  zstd 0.465\n",
      " protobuf done!\n",
      "IOT10\n",
      " json: \n",
      "  zlib 0.016\n",
      "  gzip 0.011\n",
      "  bz2 0.049\n",
      "  lz4 0.001\n",
      "  zstd 0.007\n",
      " json done!\n",
      " protobuf: \n",
      "  zlib 0.009\n",
      "  gzip 0.009\n",
      "  bz2 0.034\n",
      "  lz4 0.001\n",
      "  zstd 0.002\n",
      " protobuf done!\n",
      "IOT11\n",
      " json: \n",
      "  zlib 0.061\n",
      "  gzip 0.062\n",
      "  bz2 0.245\n",
      "  lz4 0.004\n",
      "  zstd 0.034\n",
      " json done!\n",
      " protobuf: \n",
      "  zlib 0.059\n",
      "  gzip 0.057\n",
      "  bz2 0.188\n",
      "  lz4 0.005\n",
      "  zstd 0.010\n",
      " protobuf done!\n",
      "IOT12\n",
      " json: \n",
      "  zlib 0.073\n",
      "  gzip 0.068\n",
      "  bz2 0.297\n",
      "  lz4 0.008\n",
      "  zstd 0.027\n",
      " json done!\n",
      " protobuf: \n",
      "  zlib 0.039\n",
      "  gzip 0.043\n",
      "  bz2 0.204\n",
      "  lz4 0.004\n",
      "  zstd 0.010\n",
      " protobuf done!\n",
      "TAZAW\n",
      " json: \n",
      "  zlib 1.460\n",
      "  gzip 1.329\n",
      "  bz2 5.739\n",
      "  lz4 0.126\n",
      "  zstd 0.545\n",
      " json done!\n",
      " protobuf: \n",
      "  zlib 0.687\n",
      "  gzip 0.777\n",
      "  bz2 3.428\n",
      "  lz4 0.058\n",
      "  zstd 0.236\n",
      " protobuf done!\n"
     ]
    }
   ],
   "source": [
    "compress_packages(packages)"
   ]
  },
  {
   "cell_type": "code",
   "execution_count": 57,
   "metadata": {},
   "outputs": [
    {
     "name": "stdout",
     "output_type": "stream",
     "text": [
      "b'{\"station_name\":\"Oak Street Weather Station\",\"measurement_timestamp\":\"2015-05-22T15:00:00\",\"air_temperature\":null,\"wet_bulb_temperature\":7.0,\"humidity\":55,\"rain_intensity\":0.0,\"interval_rain\":0.0,\"total_rain\":1.4,\"precipitation_type\":0,\"wind_direction\":63,\"wind_speed\":1.9,\"maximum_wind_speed\":2.8,\"barometric_pressure\":null,\"solar_radiation\":780,\"heading\":322,\"battery_life\":12.0,\"measurement_timestamp_label\":\"05/22/2015 3:00 PM\",\"measurement_id\":\"OakStreetWeatherStation201505221500\"}'\n"
     ]
    },
    {
     "data": {
      "text/plain": [
       "1044"
      ]
     },
     "execution_count": 57,
     "metadata": {},
     "output_type": "execute_result"
    }
   ],
   "source": [
    "# Mass evaluation funcitons\n",
    "# def get_sizes()\n",
    "\n",
    "print(packages[\"BWSAS\"][\"package_messages_json\"][0])\n",
    "bitsize(to_bits(packages[\"BWSAS\"][\"package_messages_proto\"][0]))"
   ]
  },
  {
   "cell_type": "code",
   "execution_count": null,
   "metadata": {},
   "outputs": [],
   "source": [
    "sum([len(packages)])"
   ]
  },
  {
   "cell_type": "code",
   "execution_count": null,
   "metadata": {},
   "outputs": [
    {
     "name": "stdout",
     "output_type": "stream",
     "text": [
      "Dataset   proto   json\n",
      "----------------------\n",
      "ASCCDCV  294938 294938\n",
      "ARGAZAL   55139  55139\n",
      "ARMAZAL   27074  27074\n",
      "BWQAS     34923  34923\n",
      "BWSAS     59144  59144\n",
      "IOTNL    477426 477426\n",
      "IOTTEMP   97606  97606\n",
      "IOT1      83126  83126\n",
      "IOT2     172249 172249\n",
      "IOT3     169185 169185\n",
      "IOT4      89844  89844\n",
      "IOT6      91050  91050\n",
      "IOT7     279612 279612\n",
      "IOT8      70744  70744\n",
      "IOT9     151785 151785\n",
      "IOT10       620    620\n",
      "IOT11      3165   3165\n",
      "IOT12      3590   3590\n",
      "TAZAW     55139  55139\n"
     ]
    }
   ],
   "source": [
    "print(f\"Dataset   proto   json\")\n",
    "print(f\"{'-'*22}\")\n",
    "for package in packages:\n",
    "    print(f\"{package:8} {len(packages[package]['package_messages_proto']):6} {len(packages[package][\"package_messages_json\"]):6}\")\n",
    "    "
   ]
  },
  {
   "cell_type": "code",
   "execution_count": 99,
   "metadata": {},
   "outputs": [],
   "source": [
    "import pprint"
   ]
  },
  {
   "cell_type": "code",
   "execution_count": 102,
   "metadata": {},
   "outputs": [
    {
     "name": "stderr",
     "output_type": "stream",
     "text": [
      "Exception ignored in: 'zmq.backend.cython.message.Frame.__dealloc__'\n",
      "Traceback (most recent call last):\n",
      "  File \"zmq\\\\backend\\\\cython\\\\checkrc.pxd\", line 13, in zmq.backend.cython.checkrc._check_rc\n",
      "KeyboardInterrupt: \n"
     ]
    },
    {
     "ename": "ValueError",
     "evalue": "depth must be > 0",
     "output_type": "error",
     "traceback": [
      "\u001b[1;31m---------------------------------------------------------------------------\u001b[0m",
      "\u001b[1;31mValueError\u001b[0m                                Traceback (most recent call last)",
      "Cell \u001b[1;32mIn[102], line 1\u001b[0m\n\u001b[1;32m----> 1\u001b[0m \u001b[43mpprint\u001b[49m\u001b[38;5;241;43m.\u001b[39;49m\u001b[43mPrettyPrinter\u001b[49m\u001b[43m(\u001b[49m\u001b[43mdepth\u001b[49m\u001b[38;5;241;43m=\u001b[39;49m\u001b[38;5;241;43m0\u001b[39;49m\u001b[43m)\u001b[49m\u001b[38;5;241m.\u001b[39mpprint(packages[\u001b[38;5;124m\"\u001b[39m\u001b[38;5;124mARGZAL\u001b[39m\u001b[38;5;124m\"\u001b[39m][\u001b[38;5;124m\"\u001b[39m\u001b[38;5;124mpackage_messages_json_compressed\u001b[39m\u001b[38;5;124m\"\u001b[39m])\n",
      "File \u001b[1;32mc:\\Users\\MANDR\\AppData\\Local\\Programs\\Python\\Python312\\Lib\\pprint.py:140\u001b[0m, in \u001b[0;36mPrettyPrinter.__init__\u001b[1;34m(self, indent, width, depth, stream, compact, sort_dicts, underscore_numbers)\u001b[0m\n\u001b[0;32m    138\u001b[0m     \u001b[38;5;28;01mraise\u001b[39;00m \u001b[38;5;167;01mValueError\u001b[39;00m(\u001b[38;5;124m'\u001b[39m\u001b[38;5;124mindent must be >= 0\u001b[39m\u001b[38;5;124m'\u001b[39m)\n\u001b[0;32m    139\u001b[0m \u001b[38;5;28;01mif\u001b[39;00m depth \u001b[38;5;129;01mis\u001b[39;00m \u001b[38;5;129;01mnot\u001b[39;00m \u001b[38;5;28;01mNone\u001b[39;00m \u001b[38;5;129;01mand\u001b[39;00m depth \u001b[38;5;241m<\u001b[39m\u001b[38;5;241m=\u001b[39m \u001b[38;5;241m0\u001b[39m:\n\u001b[1;32m--> 140\u001b[0m     \u001b[38;5;28;01mraise\u001b[39;00m \u001b[38;5;167;01mValueError\u001b[39;00m(\u001b[38;5;124m'\u001b[39m\u001b[38;5;124mdepth must be > 0\u001b[39m\u001b[38;5;124m'\u001b[39m)\n\u001b[0;32m    141\u001b[0m \u001b[38;5;28;01mif\u001b[39;00m \u001b[38;5;129;01mnot\u001b[39;00m width:\n\u001b[0;32m    142\u001b[0m     \u001b[38;5;28;01mraise\u001b[39;00m \u001b[38;5;167;01mValueError\u001b[39;00m(\u001b[38;5;124m'\u001b[39m\u001b[38;5;124mwidth must be != 0\u001b[39m\u001b[38;5;124m'\u001b[39m)\n",
      "\u001b[1;31mValueError\u001b[0m: depth must be > 0"
     ]
    }
   ],
   "source": [
    "pprint.PrettyPrinter(depth=0).pprint(packages[\"ARGZAL\"][\"package_messages_json_compressed\"])"
   ]
  },
  {
   "cell_type": "code",
   "execution_count": 131,
   "metadata": {},
   "outputs": [
    {
     "name": "stdout",
     "output_type": "stream",
     "text": [
      "ASCCDCV\n",
      " json\n"
     ]
    },
    {
     "ename": "KeyError",
     "evalue": "'ASCCDCV'",
     "output_type": "error",
     "traceback": [
      "\u001b[1;31m---------------------------------------------------------------------------\u001b[0m",
      "\u001b[1;31mKeyError\u001b[0m                                  Traceback (most recent call last)",
      "Cell \u001b[1;32mIn[131], line 6\u001b[0m\n\u001b[0;32m      3\u001b[0m \u001b[38;5;28mprint\u001b[39m(package)\n\u001b[0;32m      5\u001b[0m \u001b[38;5;28mprint\u001b[39m(\u001b[38;5;124m\"\u001b[39m\u001b[38;5;124m json\u001b[39m\u001b[38;5;124m\"\u001b[39m)\n\u001b[1;32m----> 6\u001b[0m \u001b[43msizes\u001b[49m\u001b[43m[\u001b[49m\u001b[43mpackage\u001b[49m\u001b[43m]\u001b[49m[\u001b[38;5;124m\"\u001b[39m\u001b[38;5;124mjson\u001b[39m\u001b[38;5;124m\"\u001b[39m] \u001b[38;5;241m=\u001b[39m [bitsize(message) \u001b[38;5;28;01mfor\u001b[39;00m message \u001b[38;5;129;01min\u001b[39;00m packages[package][\u001b[38;5;124m\"\u001b[39m\u001b[38;5;124mpackage_messages_json\u001b[39m\u001b[38;5;124m\"\u001b[39m]]\n\u001b[0;32m      7\u001b[0m \u001b[38;5;28mprint\u001b[39m(\u001b[38;5;124m\"\u001b[39m\u001b[38;5;124m json_compressed\u001b[39m\u001b[38;5;124m\"\u001b[39m)\n\u001b[0;32m      8\u001b[0m sizes[package][\u001b[38;5;124m\"\u001b[39m\u001b[38;5;124mjson_compressed\u001b[39m\u001b[38;5;124m\"\u001b[39m] \u001b[38;5;241m=\u001b[39m [bitsize(message) \u001b[38;5;28;01mfor\u001b[39;00m message \u001b[38;5;129;01min\u001b[39;00m packages[package][\u001b[38;5;124m\"\u001b[39m\u001b[38;5;124mpackage_messages_json_compressed\u001b[39m\u001b[38;5;124m\"\u001b[39m]]\n",
      "\u001b[1;31mKeyError\u001b[0m: 'ASCCDCV'"
     ]
    }
   ],
   "source": [
    "sizes = {}\n",
    "for package in packages:\n",
    "    print(package)\n",
    "\n",
    "    print(\" json\")\n",
    "    sizes[package][\"json\"] = [bitsize(message) for message in packages[package][\"package_messages_json\"]]\n",
    "    print(\" json_compressed\")\n",
    "    sizes[package][\"json_compressed\"] = [bitsize(message) for message in packages[package][\"package_messages_json_compressed\"]]\n",
    "    \n",
    "    print(\" proto\")\n",
    "    sizes[package][\"proto\"] = [bitsize(message) for message in packages[package][\"package_messages_proto\"]]\n",
    "    print(\" proto_compressed\")\n",
    "    sizes[package][\"proto_compressed\"] = [bitsize(message) for message in packages[package][\"package_messages_proto_compressed\"]]\n",
    "    "
   ]
  },
  {
   "cell_type": "code",
   "execution_count": null,
   "metadata": {},
   "outputs": [],
   "source": [
    "a = {}\n",
    "a[\"2\"][\"3\"] = 5\n",
    "\n",
    "a"
   ]
  },
  {
   "cell_type": "code",
   "execution_count": 133,
   "metadata": {},
   "outputs": [
    {
     "data": {
      "text/plain": [
       "[b'{\"a_no2\":2.706,\"a_ufp\":11777.139,\"a_bc\":-0.0130518886679921,\"n_no2\":11.53,\"n_ufp\":6232.453,\"n_bc\":1.21363157894737,\"v_no2\":7.26,\"v_ufp\":18812.666,\"v_bc\":0.569615384615385,\"n_core_no2\":1.136,\"n_core_ufp\":13135.9664,\"n_core_bc\":0.0265131790744467}',\n",
       " b'{\"a_no2\":2.687,\"a_ufp\":16666.338,\"a_bc\":-0.0130518886679921,\"n_no2\":9.78,\"n_ufp\":3412.097005,\"n_bc\":0.732852941176471,\"v_no2\":7.587,\"v_ufp\":8878.1331,\"v_bc\":0.569615384615385,\"n_core_no2\":0.911,\"n_core_ufp\":12304.3455,\"n_core_bc\":0.0265131790744467}']"
      ]
     },
     "execution_count": 133,
     "metadata": {},
     "output_type": "execute_result"
    }
   ],
   "source": [
    "[message for message in packages[package][\"package_messages_json\"][0:2]]"
   ]
  },
  {
   "cell_type": "code",
   "execution_count": 126,
   "metadata": {},
   "outputs": [
    {
     "name": "stdout",
     "output_type": "stream",
     "text": [
      "1263\n",
      "1357\n",
      "1799\n",
      "1355\n",
      "1246\n"
     ]
    }
   ],
   "source": [
    "print(bitsize(packages[\"ARGAZAL\"][\"package_messages_proto_compressed\"][\"zlib\"][0]))\n",
    "print(bitsize(packages[\"ARGAZAL\"][\"package_messages_proto_compressed\"][\"gzip\"][0]))\n",
    "print(bitsize(packages[\"ARGAZAL\"][\"package_messages_proto_compressed\"][\"bz2\"][0]))\n",
    "print(bitsize(packages[\"ARGAZAL\"][\"package_messages_proto_compressed\"][\"lz4\"][0]))\n",
    "print(bitsize(packages[\"ARGAZAL\"][\"package_messages_proto_compressed\"][\"zstd\"][0]))"
   ]
  },
  {
   "cell_type": "code",
   "execution_count": 116,
   "metadata": {},
   "outputs": [
    {
     "data": {
      "text/plain": [
       "['zlib', 'gzip', 'bz2', 'lz4', 'zstd']"
      ]
     },
     "execution_count": 116,
     "metadata": {},
     "output_type": "execute_result"
    }
   ],
   "source": [
    "[i for i in packages[\"ARGAZAL\"][\"package_messages_json_compressed\"]]"
   ]
  },
  {
   "cell_type": "code",
   "execution_count": 127,
   "metadata": {},
   "outputs": [
    {
     "name": "stdout",
     "output_type": "stream",
     "text": [
      "1172\n"
     ]
    }
   ],
   "source": [
    "print(bitsize(packages[\"ARGAZAL\"][\"package_messages_proto\"][0]))"
   ]
  },
  {
   "cell_type": "code",
   "execution_count": 128,
   "metadata": {},
   "outputs": [
    {
     "data": {
      "text/plain": [
       "(0.651473040578099, 1.5349829351535835, 0.9406099518459069, 1.0631399317406143)"
      ]
     },
     "execution_count": 128,
     "metadata": {},
     "output_type": "execute_result"
    }
   ],
   "source": [
    "1.5*"
   ]
  },
  {
   "cell_type": "code",
   "execution_count": null,
   "metadata": {},
   "outputs": [],
   "source": []
  }
 ],
 "metadata": {
  "kernelspec": {
   "display_name": "Python 3",
   "language": "python",
   "name": "python3"
  },
  "language_info": {
   "codemirror_mode": {
    "name": "ipython",
    "version": 3
   },
   "file_extension": ".py",
   "mimetype": "text/x-python",
   "name": "python",
   "nbconvert_exporter": "python",
   "pygments_lexer": "ipython3",
   "version": "3.12.3"
  }
 },
 "nbformat": 4,
 "nbformat_minor": 2
}
